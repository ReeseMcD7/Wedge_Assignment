{
 "cells": [
  {
   "cell_type": "markdown",
   "id": "18a45b5c",
   "metadata": {},
   "source": [
    "Task 2: Generating a table of transaction data of a sample of owners."
   ]
  },
  {
   "cell_type": "code",
   "execution_count": null,
   "id": "ee719b25",
   "metadata": {},
   "outputs": [],
   "source": [
    "import os\n",
    "import re\n",
    "import datetime \n",
    "from zipfile import ZipFile\n",
    "import pandas as pd\n",
    "import numpy as np\n",
    "import pandas_gbq\n",
    "import janitor\n",
    "import shutil\n",
    "import glob\n",
    "from google.cloud import bigquery\n",
    "from google.oauth2 import service_account"
   ]
  },
  {
   "cell_type": "code",
   "execution_count": null,
   "id": "9e477dcd",
   "metadata": {},
   "outputs": [],
   "source": [
    "# Building the private key.\n",
    "service_path = \"C:\\\\Users\\\\rsmcd\\\\OneDrive\\\\Desktop\\\\MSBA Fall 2022\\\\\" # Path to json file.\n",
    "service_file = 'reese-msba-9558fdd20984.json' # Name of json file.\n",
    "gbq_proj_id = 'reese-msba' # Name of project.\n",
    "\n",
    "# Creates single variable that leads to json file.\n",
    "private_key =service_path + service_file  "
   ]
  },
  {
   "cell_type": "code",
   "execution_count": null,
   "id": "61fb58cc",
   "metadata": {},
   "outputs": [],
   "source": [
    "# Now we pass in our credentials so that Python has permission to access our project.\n",
    "credentials = service_account.Credentials.from_service_account_file(service_path + service_file)"
   ]
  },
  {
   "cell_type": "code",
   "execution_count": null,
   "id": "6fe46a87",
   "metadata": {},
   "outputs": [],
   "source": [
    "# And finally we establish our connection.\n",
    "client = bigquery.Client(credentials = credentials, project=gbq_proj_id)"
   ]
  },
  {
   "cell_type": "code",
   "execution_count": null,
   "id": "8e4faf09",
   "metadata": {},
   "outputs": [],
   "source": [
    "# Look at list of data sets in client.\n",
    "for item in client.list_datasets() : \n",
    "    print(item.full_dataset_id)"
   ]
  },
  {
   "cell_type": "markdown",
   "id": "29cc9c15",
   "metadata": {},
   "source": [
    "The code in the next few cells builds the randomized owner table and writes it to csv format."
   ]
  },
  {
   "cell_type": "code",
   "execution_count": null,
   "id": "e3e865a9",
   "metadata": {},
   "outputs": [],
   "source": [
    "# A query that grabs a list of owners, randomizes the order, selects 650 of them, and returns all transactions for them.\n",
    "query = \"\"\"\n",
    "    WITH cnd AS(\n",
    "    SELECT DISTINCT card_no\n",
    "    FROM `reese-msba.wedge_transactions.transArchive*`\n",
    "    WHERE card_no != 3\n",
    "    ORDER BY rand()\n",
    "    LIMIT 650)\n",
    "    SELECT *\n",
    "    FROM `reese-msba.wedge_transactions.transArchive*` as rsmba\n",
    "    INNER JOIN cnd\n",
    "    ON cnd.card_no = rsmba.card_no\n",
    "\"\"\"\n",
    "\n",
    "random_owners = pandas_gbq.read_gbq(query,project_id = gbq_proj_id)"
   ]
  },
  {
   "cell_type": "code",
   "execution_count": null,
   "id": "527ad466",
   "metadata": {},
   "outputs": [],
   "source": [
    "random_owners"
   ]
  },
  {
   "cell_type": "code",
   "execution_count": null,
   "id": "8170766c",
   "metadata": {},
   "outputs": [],
   "source": [
    "# Deletes the csv that will be created if it already exists in the directory.\n",
    "filePath = 'sample_owner_table.csv';\n",
    "    \n",
    "# Check if Folder exists or not.\n",
    "if os.path.exists(filePath):\n",
    "    os.remove(filePath)\n",
    "  \n",
    "    print(\"The folder has been deleted successfully!\")\n",
    "else:\n",
    "    print(\"Cannot delete the folder as it doesn't exists\")"
   ]
  },
  {
   "cell_type": "code",
   "execution_count": null,
   "id": "82203a84",
   "metadata": {},
   "outputs": [],
   "source": [
    "random_owners.to_csv(\"sample_owner_table.csv\", index=False)"
   ]
  }
 ],
 "metadata": {
  "kernelspec": {
   "display_name": "Python 3 (ipykernel)",
   "language": "python",
   "name": "python3"
  },
  "language_info": {
   "codemirror_mode": {
    "name": "ipython",
    "version": 3
   },
   "file_extension": ".py",
   "mimetype": "text/x-python",
   "name": "python",
   "nbconvert_exporter": "python",
   "pygments_lexer": "ipython3",
   "version": "3.9.12"
  }
 },
 "nbformat": 4,
 "nbformat_minor": 5
}
