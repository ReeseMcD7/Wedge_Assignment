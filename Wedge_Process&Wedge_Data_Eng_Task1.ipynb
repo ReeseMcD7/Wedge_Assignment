{
 "cells": [
  {
   "cell_type": "code",
   "execution_count": 1,
   "id": "7197954e",
   "metadata": {
    "collapsed": true
   },
   "outputs": [],
   "source": [
    "import os\n",
    "# Imports the regular expression module\n",
    "import re\n",
    "import datetime \n",
    "\n",
    "import pandas as pd\n",
    "import numpy as np\n",
    "import pandas_gbq\n",
    "import janitor\n",
    "\n",
    "# Do our imports for the code\n",
    "from google.cloud import bigquery\n",
    "from google.oauth2 import service_account"
   ]
  },
  {
   "cell_type": "code",
   "execution_count": 2,
   "id": "99f49f73",
   "metadata": {
    "collapsed": true
   },
   "outputs": [],
   "source": [
    "#################################################################################################################### Task 1"
   ]
  },
  {
   "cell_type": "code",
   "execution_count": 3,
   "id": "ad0b090e",
   "metadata": {
    "collapsed": true
   },
   "outputs": [
    {
     "data": {
      "text/html": [
       "<div>\n",
       "<style scoped>\n",
       "    .dataframe tbody tr th:only-of-type {\n",
       "        vertical-align: middle;\n",
       "    }\n",
       "\n",
       "    .dataframe tbody tr th {\n",
       "        vertical-align: top;\n",
       "    }\n",
       "\n",
       "    .dataframe thead th {\n",
       "        text-align: right;\n",
       "    }\n",
       "</style>\n",
       "<table border=\"1\" class=\"dataframe\">\n",
       "  <thead>\n",
       "    <tr style=\"text-align: right;\">\n",
       "      <th></th>\n",
       "      <th>file_name</th>\n",
       "      <th>num_rows</th>\n",
       "      <th>num_cards</th>\n",
       "      <th>num_dates</th>\n",
       "    </tr>\n",
       "  </thead>\n",
       "  <tbody>\n",
       "  </tbody>\n",
       "</table>\n",
       "</div>"
      ],
      "text/plain": [
       "Empty DataFrame\n",
       "Columns: [file_name, num_rows, num_cards, num_dates]\n",
       "Index: []"
      ]
     },
     "execution_count": 3,
     "metadata": {},
     "output_type": "execute_result"
    }
   ],
   "source": [
    "# column name list \n",
    "col_names =  ['file_name', 'num_rows', 'num_cards', 'num_dates']\n",
    "  \n",
    "# create an empty dataframe\n",
    "# with columns\n",
    "wedge_summary  = pd.DataFrame(columns = col_names)\n",
    "  \n",
    "# show the dataframe\n",
    "wedge_summary"
   ]
  },
  {
   "cell_type": "code",
   "execution_count": 4,
   "id": "224028ed",
   "metadata": {
    "collapsed": true
   },
   "outputs": [
    {
     "data": {
      "text/plain": [
       "['transArchive_201001_201003.zip',\n",
       " 'transArchive_201004_201006.zip',\n",
       " 'transArchive_201007_201009.zip',\n",
       " 'transArchive_201010_201012.zip',\n",
       " 'transArchive_201101_201103.zip',\n",
       " 'transArchive_201104.zip',\n",
       " 'transArchive_201105.zip',\n",
       " 'transArchive_201106.zip',\n",
       " 'transArchive_201107_201109.zip',\n",
       " 'transArchive_201110_201112.zip',\n",
       " 'transArchive_201201_201203.zip',\n",
       " 'transArchive_201201_201203_inactive.zip',\n",
       " 'transArchive_201204_201206.zip',\n",
       " 'transArchive_201204_201206_inactive.zip',\n",
       " 'transArchive_201207_201209.zip',\n",
       " 'transArchive_201207_201209_inactive.zip',\n",
       " 'transArchive_201210_201212.zip',\n",
       " 'transArchive_201210_201212_inactive.zip',\n",
       " 'transArchive_201301_201303.zip',\n",
       " 'transArchive_201301_201303_inactive.zip',\n",
       " 'transArchive_201304_201306.zip',\n",
       " 'transArchive_201304_201306_inactive.zip',\n",
       " 'transArchive_201307_201309.zip',\n",
       " 'transArchive_201307_201309_inactive.zip',\n",
       " 'transArchive_201310_201312.zip',\n",
       " 'transArchive_201310_201312_inactive.zip',\n",
       " 'transArchive_201401_201403.zip',\n",
       " 'transArchive_201401_201403_inactive.zip',\n",
       " 'transArchive_201404_201406.zip',\n",
       " 'transArchive_201404_201406_inactive.zip',\n",
       " 'transArchive_201407_201409.zip',\n",
       " 'transArchive_201407_201409_inactive.zip',\n",
       " 'transArchive_201410_201412.zip',\n",
       " 'transArchive_201410_201412_inactive.zip',\n",
       " 'transArchive_201501_201503.zip',\n",
       " 'transArchive_201504_201506.zip',\n",
       " 'transArchive_201507_201509.zip',\n",
       " 'transArchive_201510.zip',\n",
       " 'transArchive_201511.zip',\n",
       " 'transArchive_201512.zip',\n",
       " 'transArchive_201601.zip',\n",
       " 'transArchive_201602.zip',\n",
       " 'transArchive_201603.zip',\n",
       " 'transArchive_201604.zip',\n",
       " 'transArchive_201605.zip',\n",
       " 'transArchive_201606.zip',\n",
       " 'transArchive_201607.zip',\n",
       " 'transArchive_201608.zip',\n",
       " 'transArchive_201609.zip',\n",
       " 'transArchive_201610.zip',\n",
       " 'transArchive_201611.zip',\n",
       " 'transArchive_201612.zip',\n",
       " 'transArchive_201701.zip']"
      ]
     },
     "execution_count": 4,
     "metadata": {},
     "output_type": "execute_result"
    }
   ],
   "source": [
    "#creates list of files in \"directory\"\n",
    "zip_files = os.listdir(\"WedgeZipOfZips/\")\n",
    "zip_files"
   ]
  },
  {
   "cell_type": "code",
   "execution_count": 5,
   "id": "702fa4bd",
   "metadata": {
    "collapsed": true
   },
   "outputs": [],
   "source": [
    "#this is importing class 'Zipfile' from package 'zipfile'\n",
    "from zipfile import ZipFile # usually you'd do all these imports at the beginning"
   ]
  },
  {
   "cell_type": "code",
   "execution_count": 6,
   "id": "14936002",
   "metadata": {
    "collapsed": true
   },
   "outputs": [],
   "source": [
    "# #extracts all zips in WedgeZipOfZips\n",
    "# for zipf in zip_files :\n",
    "#     with ZipFile(\"WedgeZipOfZips/\" + zipf,'r') as zf :  \n",
    "#         print(zf.namelist())\n",
    "        \n",
    "#         print('Extracting all the files now...')\n",
    "#         zf.extractall() #this extracts directly to the directory and not a subfolder\n",
    "#         print('Done!')"
   ]
  },
  {
   "cell_type": "code",
   "execution_count": 7,
   "id": "be7613bf",
   "metadata": {
    "collapsed": true
   },
   "outputs": [
    {
     "name": "stdout",
     "output_type": "stream",
     "text": [
      "It looks like transArchive_201001_201003.csv has delimiter , .\n",
      "It looks like transArchive_201004_201006.csv has delimiter , .\n",
      "It looks like transArchive_201007_201009.csv has delimiter , .\n",
      "It looks like transArchive_201010_201012.csv has delimiter , .\n",
      "It looks like transArchive_201101_201103.csv has delimiter , .\n",
      "It looks like transArchive_201104.csv has delimiter , .\n",
      "It looks like transArchive_201105.csv has delimiter , .\n",
      "It looks like transArchive_201106.csv has delimiter , .\n",
      "It looks like transArchive_201107_201109.csv has delimiter , .\n",
      "It looks like transArchive_201110_201112.csv has delimiter , .\n",
      "It looks like transArchive_201201_201203.csv has delimiter , .\n",
      "It looks like transArchive_201201_201203_inactive.csv has delimiter ; .\n",
      "It looks like transArchive_201204_201206.csv has delimiter , .\n",
      "It looks like transArchive_201204_201206_inactive.csv has delimiter ; .\n",
      "It looks like transArchive_201207_201209.csv has delimiter , .\n",
      "It looks like transArchive_201207_201209_inactive.csv has delimiter ; .\n",
      "It looks like transArchive_201210_201212.csv has delimiter , .\n",
      "It looks like transArchive_201210_201212_inactive.csv has delimiter ; .\n",
      "It looks like transArchive_201301_201303.csv has delimiter , .\n",
      "It looks like transArchive_201301_201303_inactive.csv has delimiter ; .\n",
      "It looks like transArchive_201304_201306.csv has delimiter , .\n",
      "It looks like transArchive_201304_201306_inactive.csv has delimiter ; .\n",
      "It looks like transArchive_201307_201309.csv has delimiter , .\n",
      "It looks like transArchive_201307_201309_inactive.csv has delimiter ; .\n",
      "It looks like transArchive_201310_201312.csv has delimiter , .\n",
      "It looks like transArchive_201310_201312_inactive.csv has delimiter ; .\n",
      "It looks like transArchive_201401_201403.csv has delimiter , .\n",
      "It looks like transArchive_201401_201403_inactive.csv has delimiter ; .\n",
      "It looks like transArchive_201404_201406.csv has delimiter , .\n",
      "It looks like transArchive_201404_201406_inactive.csv has delimiter ; .\n",
      "It looks like transArchive_201407_201409.csv has delimiter , .\n",
      "It looks like transArchive_201407_201409_inactive.csv has delimiter ; .\n",
      "It looks like transArchive_201410_201412.csv has delimiter , .\n",
      "It looks like transArchive_201410_201412_inactive.csv has delimiter ; .\n",
      "It looks like transArchive_201501_201503.csv has delimiter , .\n",
      "It looks like transArchive_201504_201506.csv has delimiter , .\n",
      "It looks like transArchive_201507_201509.csv has delimiter , .\n",
      "It looks like transArchive_201510.csv has delimiter , .\n",
      "It looks like transArchive_201511.csv has delimiter , .\n",
      "It looks like transArchive_201512.csv has delimiter , .\n",
      "It looks like transArchive_201601.csv has delimiter , .\n",
      "It looks like transArchive_201602.csv has delimiter , .\n",
      "It looks like transArchive_201603.csv has delimiter , .\n",
      "It looks like transArchive_201604.csv has delimiter , .\n",
      "It looks like transArchive_201605.csv has delimiter , .\n",
      "It looks like transArchive_201606.csv has delimiter , .\n",
      "It looks like transArchive_201607.csv has delimiter , .\n",
      "It looks like transArchive_201608.csv has delimiter , .\n",
      "It looks like transArchive_201609.csv has delimiter , .\n",
      "It looks like transArchive_201610.csv has delimiter , .\n",
      "It looks like transArchive_201611.csv has delimiter , .\n",
      "It looks like transArchive_201612.csv has delimiter , .\n",
      "It looks like transArchive_201701.csv has delimiter , .\n"
     ]
    }
   ],
   "source": [
    "#Checking for delimiters\n",
    "import csv\n",
    "import io\n",
    "\n",
    "delimiters = dict() \n",
    "#r-read,w-write,a-append\n",
    "#start by reading in all the files again.\n",
    "for this_zf in zip_files :\n",
    "    with ZipFile(\"WedgeZipOfZips/\" + this_zf,'r') as zf :\n",
    "        zipped_files = zf.namelist()\n",
    "        \n",
    "        for file_name in zipped_files :\n",
    "            input_file = zf.open(file_name,'r')\n",
    "            input_file = io.TextIOWrapper(input_file,encoding=\"utf-8\")\n",
    "            \n",
    "            dialect = csv.Sniffer().sniff(sample=input_file.readline(),\n",
    "                                      delimiters=[\",\",\";\",\"\\t\"])\n",
    "            \n",
    "            delimiters[file_name] = dialect.delimiter\n",
    "            \n",
    "            print(\" \".join([\"It looks like\",\n",
    "                           file_name,\n",
    "                           \"has delimiter\",\n",
    "                           dialect.delimiter,\n",
    "                           \".\"]))\n",
    "\n",
    "            input_file.close() # tidy up"
   ]
  },
  {
   "cell_type": "code",
   "execution_count": 8,
   "id": "26e4031f",
   "metadata": {
    "collapsed": true
   },
   "outputs": [
    {
     "name": "stdout",
     "output_type": "stream",
     "text": [
      "{'transArchive_201001_201003.csv': ',', 'transArchive_201004_201006.csv': ',', 'transArchive_201007_201009.csv': ',', 'transArchive_201010_201012.csv': ',', 'transArchive_201101_201103.csv': ',', 'transArchive_201104.csv': ',', 'transArchive_201105.csv': ',', 'transArchive_201106.csv': ',', 'transArchive_201107_201109.csv': ',', 'transArchive_201110_201112.csv': ',', 'transArchive_201201_201203.csv': ',', 'transArchive_201201_201203_inactive.csv': ';', 'transArchive_201204_201206.csv': ',', 'transArchive_201204_201206_inactive.csv': ';', 'transArchive_201207_201209.csv': ',', 'transArchive_201207_201209_inactive.csv': ';', 'transArchive_201210_201212.csv': ',', 'transArchive_201210_201212_inactive.csv': ';', 'transArchive_201301_201303.csv': ',', 'transArchive_201301_201303_inactive.csv': ';', 'transArchive_201304_201306.csv': ',', 'transArchive_201304_201306_inactive.csv': ';', 'transArchive_201307_201309.csv': ',', 'transArchive_201307_201309_inactive.csv': ';', 'transArchive_201310_201312.csv': ',', 'transArchive_201310_201312_inactive.csv': ';', 'transArchive_201401_201403.csv': ',', 'transArchive_201401_201403_inactive.csv': ';', 'transArchive_201404_201406.csv': ',', 'transArchive_201404_201406_inactive.csv': ';', 'transArchive_201407_201409.csv': ',', 'transArchive_201407_201409_inactive.csv': ';', 'transArchive_201410_201412.csv': ',', 'transArchive_201410_201412_inactive.csv': ';', 'transArchive_201501_201503.csv': ',', 'transArchive_201504_201506.csv': ',', 'transArchive_201507_201509.csv': ',', 'transArchive_201510.csv': ',', 'transArchive_201511.csv': ',', 'transArchive_201512.csv': ',', 'transArchive_201601.csv': ',', 'transArchive_201602.csv': ',', 'transArchive_201603.csv': ',', 'transArchive_201604.csv': ',', 'transArchive_201605.csv': ',', 'transArchive_201606.csv': ',', 'transArchive_201607.csv': ',', 'transArchive_201608.csv': ',', 'transArchive_201609.csv': ',', 'transArchive_201610.csv': ',', 'transArchive_201611.csv': ',', 'transArchive_201612.csv': ',', 'transArchive_201701.csv': ','}\n"
     ]
    }
   ],
   "source": [
    "print(delimiters)"
   ]
  },
  {
   "cell_type": "code",
   "execution_count": 9,
   "id": "fc415b76",
   "metadata": {
    "collapsed": true
   },
   "outputs": [
    {
     "name": "stdout",
     "output_type": "stream",
     "text": [
      "\"datetime\",\"register_no\",\"emp_no\",\"trans_no\",\"upc\",\"description\",\"trans_type\",\"trans_subtype\",\"trans_status\",\"department\",\"quantity\",\"Scale\",\"cost\",\"unitPrice\",\"total\",\"regPrice\",\"altPrice\",\"tax\",\"taxexempt\",\"foodstamp\",\"wicable\",\"discount\",\"memDiscount\",\"discountable\",\"discounttype\",\"voided\",\"percentDiscount\",\"ItemQtty\",\"volDiscType\",\"volume\",\"VolSpecial\",\"mixMatch\",\"matched\",\"memType\",\"staff\",\"numflag\",\"itemstatus\",\"tenderstatus\",\"charflag\",\"varflag\",\"batchHeaderID\",\"local\",\"organic\",\"display\",\"receipt\",\"card_no\",\"store\",\"branch\",\"match_id\",\"trans_id\"\n",
      "\n",
      "\"datetime\",\"register_no\",\"emp_no\",\"trans_no\",\"upc\",\"description\",\"trans_type\",\"trans_subtype\",\"trans_status\",\"department\",\"quantity\",\"Scale\",\"cost\",\"unitPrice\",\"total\",\"regPrice\",\"altPrice\",\"tax\",\"taxexempt\",\"foodstamp\",\"wicable\",\"discount\",\"memDiscount\",\"discountable\",\"discounttype\",\"voided\",\"percentDiscount\",\"ItemQtty\",\"volDiscType\",\"volume\",\"VolSpecial\",\"mixMatch\",\"matched\",\"memType\",\"staff\",\"numflag\",\"itemstatus\",\"tenderstatus\",\"charflag\",\"varflag\",\"batchHeaderID\",\"local\",\"organic\",\"display\",\"receipt\",\"card_no\",\"store\",\"branch\",\"match_id\",\"trans_id\"\n",
      "\n",
      "\"datetime\",\"register_no\",\"emp_no\",\"trans_no\",\"upc\",\"description\",\"trans_type\",\"trans_subtype\",\"trans_status\",\"department\",\"quantity\",\"Scale\",\"cost\",\"unitPrice\",\"total\",\"regPrice\",\"altPrice\",\"tax\",\"taxexempt\",\"foodstamp\",\"wicable\",\"discount\",\"memDiscount\",\"discountable\",\"discounttype\",\"voided\",\"percentDiscount\",\"ItemQtty\",\"volDiscType\",\"volume\",\"VolSpecial\",\"mixMatch\",\"matched\",\"memType\",\"staff\",\"numflag\",\"itemstatus\",\"tenderstatus\",\"charflag\",\"varflag\",\"batchHeaderID\",\"local\",\"organic\",\"display\",\"receipt\",\"card_no\",\"store\",\"branch\",\"match_id\",\"trans_id\"\n",
      "\n",
      "\"datetime\",\"register_no\",\"emp_no\",\"trans_no\",\"upc\",\"description\",\"trans_type\",\"trans_subtype\",\"trans_status\",\"department\",\"quantity\",\"Scale\",\"cost\",\"unitPrice\",\"total\",\"regPrice\",\"altPrice\",\"tax\",\"taxexempt\",\"foodstamp\",\"wicable\",\"discount\",\"memDiscount\",\"discountable\",\"discounttype\",\"voided\",\"percentDiscount\",\"ItemQtty\",\"volDiscType\",\"volume\",\"VolSpecial\",\"mixMatch\",\"matched\",\"memType\",\"staff\",\"numflag\",\"itemstatus\",\"tenderstatus\",\"charflag\",\"varflag\",\"batchHeaderID\",\"local\",\"organic\",\"display\",\"receipt\",\"card_no\",\"store\",\"branch\",\"match_id\",\"trans_id\"\n",
      "\n",
      "\"datetime\",\"register_no\",\"emp_no\",\"trans_no\",\"upc\",\"description\",\"trans_type\",\"trans_subtype\",\"trans_status\",\"department\",\"quantity\",\"Scale\",\"cost\",\"unitPrice\",\"total\",\"regPrice\",\"altPrice\",\"tax\",\"taxexempt\",\"foodstamp\",\"wicable\",\"discount\",\"memDiscount\",\"discountable\",\"discounttype\",\"voided\",\"percentDiscount\",\"ItemQtty\",\"volDiscType\",\"volume\",\"VolSpecial\",\"mixMatch\",\"matched\",\"memType\",\"staff\",\"numflag\",\"itemstatus\",\"tenderstatus\",\"charflag\",\"varflag\",\"batchHeaderID\",\"local\",\"organic\",\"display\",\"receipt\",\"card_no\",\"store\",\"branch\",\"match_id\",\"trans_id\"\n",
      "\n",
      "datetime,register_no,emp_no,trans_no,upc,description,trans_type,trans_subtype,trans_status,department,quantity,Scale,cost,unitPrice,total,regPrice,altPrice,tax,taxexempt,foodstamp,wicable,discount,memDiscount,discountable,discounttype,voided,percentDiscount,ItemQtty,volDiscType,volume,VolSpecial,mixMatch,matched,memType,staff,numflag,itemstatus,tenderstatus,charflag,varflag,batchHeaderID,local,organic,display,receipt,card_no,store,branch,match_id,trans_id\n",
      "\n",
      "datetime,register_no,emp_no,trans_no,upc,description,trans_type,trans_subtype,trans_status,department,quantity,Scale,cost,unitPrice,total,regPrice,altPrice,tax,taxexempt,foodstamp,wicable,discount,memDiscount,discountable,discounttype,voided,percentDiscount,ItemQtty,volDiscType,volume,VolSpecial,mixMatch,matched,memType,staff,numflag,itemstatus,tenderstatus,charflag,varflag,batchHeaderID,local,organic,display,receipt,card_no,store,branch,match_id,trans_id\n",
      "\n",
      "datetime,register_no,emp_no,trans_no,upc,description,trans_type,trans_subtype,trans_status,department,quantity,Scale,cost,unitPrice,total,regPrice,altPrice,tax,taxexempt,foodstamp,wicable,discount,memDiscount,discountable,discounttype,voided,percentDiscount,ItemQtty,volDiscType,volume,VolSpecial,mixMatch,matched,memType,staff,numflag,itemstatus,tenderstatus,charflag,varflag,batchHeaderID,local,organic,display,receipt,card_no,store,branch,match_id,trans_id\n",
      "\n",
      "\"datetime\",\"register_no\",\"emp_no\",\"trans_no\",\"upc\",\"description\",\"trans_type\",\"trans_subtype\",\"trans_status\",\"department\",\"quantity\",\"Scale\",\"cost\",\"unitPrice\",\"total\",\"regPrice\",\"altPrice\",\"tax\",\"taxexempt\",\"foodstamp\",\"wicable\",\"discount\",\"memDiscount\",\"discountable\",\"discounttype\",\"voided\",\"percentDiscount\",\"ItemQtty\",\"volDiscType\",\"volume\",\"VolSpecial\",\"mixMatch\",\"matched\",\"memType\",\"staff\",\"numflag\",\"itemstatus\",\"tenderstatus\",\"charflag\",\"varflag\",\"batchHeaderID\",\"local\",\"organic\",\"display\",\"receipt\",\"card_no\",\"store\",\"branch\",\"match_id\",\"trans_id\"\n",
      "\n",
      "\"datetime\",\"register_no\",\"emp_no\",\"trans_no\",\"upc\",\"description\",\"trans_type\",\"trans_subtype\",\"trans_status\",\"department\",\"quantity\",\"Scale\",\"cost\",\"unitPrice\",\"total\",\"regPrice\",\"altPrice\",\"tax\",\"taxexempt\",\"foodstamp\",\"wicable\",\"discount\",\"memDiscount\",\"discountable\",\"discounttype\",\"voided\",\"percentDiscount\",\"ItemQtty\",\"volDiscType\",\"volume\",\"VolSpecial\",\"mixMatch\",\"matched\",\"memType\",\"staff\",\"numflag\",\"itemstatus\",\"tenderstatus\",\"charflag\",\"varflag\",\"batchHeaderID\",\"local\",\"organic\",\"display\",\"receipt\",\"card_no\",\"store\",\"branch\",\"match_id\",\"trans_id\"\n",
      "\n",
      "\"datetime\",\"register_no\",\"emp_no\",\"trans_no\",\"upc\",\"description\",\"trans_type\",\"trans_subtype\",\"trans_status\",\"department\",\"quantity\",\"Scale\",\"cost\",\"unitPrice\",\"total\",\"regPrice\",\"altPrice\",\"tax\",\"taxexempt\",\"foodstamp\",\"wicable\",\"discount\",\"memDiscount\",\"discountable\",\"discounttype\",\"voided\",\"percentDiscount\",\"ItemQtty\",\"volDiscType\",\"volume\",\"VolSpecial\",\"mixMatch\",\"matched\",\"memType\",\"staff\",\"numflag\",\"itemstatus\",\"tenderstatus\",\"charflag\",\"varflag\",\"batchHeaderID\",\"local\",\"organic\",\"display\",\"receipt\",\"card_no\",\"store\",\"branch\",\"match_id\",\"trans_id\"\n",
      "\n",
      "\"datetime\";\"register_no\";\"emp_no\";\"trans_no\";\"upc\";\"description\";\"trans_type\";\"trans_subtype\";\"trans_status\";\"department\";\"quantity\";\"Scale\";\"cost\";\"unitPrice\";\"total\";\"regPrice\";\"altPrice\";\"tax\";\"taxexempt\";\"foodstamp\";\"wicable\";\"discount\";\"memDiscount\";\"discountable\";\"discounttype\";\"voided\";\"percentDiscount\";\"ItemQtty\";\"volDiscType\";\"volume\";\"VolSpecial\";\"mixMatch\";\"matched\";\"memType\";\"staff\";\"numflag\";\"itemstatus\";\"tenderstatus\";\"charflag\";\"varflag\";\"batchHeaderID\";\"local\";\"organic\";\"display\";\"receipt\";\"card_no\";\"store\";\"branch\";\"match_id\";\"trans_id\"\n",
      "\n",
      "\"datetime\",\"register_no\",\"emp_no\",\"trans_no\",\"upc\",\"description\",\"trans_type\",\"trans_subtype\",\"trans_status\",\"department\",\"quantity\",\"Scale\",\"cost\",\"unitPrice\",\"total\",\"regPrice\",\"altPrice\",\"tax\",\"taxexempt\",\"foodstamp\",\"wicable\",\"discount\",\"memDiscount\",\"discountable\",\"discounttype\",\"voided\",\"percentDiscount\",\"ItemQtty\",\"volDiscType\",\"volume\",\"VolSpecial\",\"mixMatch\",\"matched\",\"memType\",\"staff\",\"numflag\",\"itemstatus\",\"tenderstatus\",\"charflag\",\"varflag\",\"batchHeaderID\",\"local\",\"organic\",\"display\",\"receipt\",\"card_no\",\"store\",\"branch\",\"match_id\",\"trans_id\"\n",
      "\n",
      "\"datetime\";\"register_no\";\"emp_no\";\"trans_no\";\"upc\";\"description\";\"trans_type\";\"trans_subtype\";\"trans_status\";\"department\";\"quantity\";\"Scale\";\"cost\";\"unitPrice\";\"total\";\"regPrice\";\"altPrice\";\"tax\";\"taxexempt\";\"foodstamp\";\"wicable\";\"discount\";\"memDiscount\";\"discountable\";\"discounttype\";\"voided\";\"percentDiscount\";\"ItemQtty\";\"volDiscType\";\"volume\";\"VolSpecial\";\"mixMatch\";\"matched\";\"memType\";\"staff\";\"numflag\";\"itemstatus\";\"tenderstatus\";\"charflag\";\"varflag\";\"batchHeaderID\";\"local\";\"organic\";\"display\";\"receipt\";\"card_no\";\"store\";\"branch\";\"match_id\";\"trans_id\"\n",
      "\n",
      "\"datetime\",\"register_no\",\"emp_no\",\"trans_no\",\"upc\",\"description\",\"trans_type\",\"trans_subtype\",\"trans_status\",\"department\",\"quantity\",\"Scale\",\"cost\",\"unitPrice\",\"total\",\"regPrice\",\"altPrice\",\"tax\",\"taxexempt\",\"foodstamp\",\"wicable\",\"discount\",\"memDiscount\",\"discountable\",\"discounttype\",\"voided\",\"percentDiscount\",\"ItemQtty\",\"volDiscType\",\"volume\",\"VolSpecial\",\"mixMatch\",\"matched\",\"memType\",\"staff\",\"numflag\",\"itemstatus\",\"tenderstatus\",\"charflag\",\"varflag\",\"batchHeaderID\",\"local\",\"organic\",\"display\",\"receipt\",\"card_no\",\"store\",\"branch\",\"match_id\",\"trans_id\"\n",
      "\n",
      "\"datetime\";\"register_no\";\"emp_no\";\"trans_no\";\"upc\";\"description\";\"trans_type\";\"trans_subtype\";\"trans_status\";\"department\";\"quantity\";\"Scale\";\"cost\";\"unitPrice\";\"total\";\"regPrice\";\"altPrice\";\"tax\";\"taxexempt\";\"foodstamp\";\"wicable\";\"discount\";\"memDiscount\";\"discountable\";\"discounttype\";\"voided\";\"percentDiscount\";\"ItemQtty\";\"volDiscType\";\"volume\";\"VolSpecial\";\"mixMatch\";\"matched\";\"memType\";\"staff\";\"numflag\";\"itemstatus\";\"tenderstatus\";\"charflag\";\"varflag\";\"batchHeaderID\";\"local\";\"organic\";\"display\";\"receipt\";\"card_no\";\"store\";\"branch\";\"match_id\";\"trans_id\"\n",
      "\n",
      "\"datetime\",\"register_no\",\"emp_no\",\"trans_no\",\"upc\",\"description\",\"trans_type\",\"trans_subtype\",\"trans_status\",\"department\",\"quantity\",\"Scale\",\"cost\",\"unitPrice\",\"total\",\"regPrice\",\"altPrice\",\"tax\",\"taxexempt\",\"foodstamp\",\"wicable\",\"discount\",\"memDiscount\",\"discountable\",\"discounttype\",\"voided\",\"percentDiscount\",\"ItemQtty\",\"volDiscType\",\"volume\",\"VolSpecial\",\"mixMatch\",\"matched\",\"memType\",\"staff\",\"numflag\",\"itemstatus\",\"tenderstatus\",\"charflag\",\"varflag\",\"batchHeaderID\",\"local\",\"organic\",\"display\",\"receipt\",\"card_no\",\"store\",\"branch\",\"match_id\",\"trans_id\"\n",
      "\n",
      "\"datetime\";\"register_no\";\"emp_no\";\"trans_no\";\"upc\";\"description\";\"trans_type\";\"trans_subtype\";\"trans_status\";\"department\";\"quantity\";\"Scale\";\"cost\";\"unitPrice\";\"total\";\"regPrice\";\"altPrice\";\"tax\";\"taxexempt\";\"foodstamp\";\"wicable\";\"discount\";\"memDiscount\";\"discountable\";\"discounttype\";\"voided\";\"percentDiscount\";\"ItemQtty\";\"volDiscType\";\"volume\";\"VolSpecial\";\"mixMatch\";\"matched\";\"memType\";\"staff\";\"numflag\";\"itemstatus\";\"tenderstatus\";\"charflag\";\"varflag\";\"batchHeaderID\";\"local\";\"organic\";\"display\";\"receipt\";\"card_no\";\"store\";\"branch\";\"match_id\";\"trans_id\"\n",
      "\n",
      "\"datetime\",\"register_no\",\"emp_no\",\"trans_no\",\"upc\",\"description\",\"trans_type\",\"trans_subtype\",\"trans_status\",\"department\",\"quantity\",\"Scale\",\"cost\",\"unitPrice\",\"total\",\"regPrice\",\"altPrice\",\"tax\",\"taxexempt\",\"foodstamp\",\"wicable\",\"discount\",\"memDiscount\",\"discountable\",\"discounttype\",\"voided\",\"percentDiscount\",\"ItemQtty\",\"volDiscType\",\"volume\",\"VolSpecial\",\"mixMatch\",\"matched\",\"memType\",\"staff\",\"numflag\",\"itemstatus\",\"tenderstatus\",\"charflag\",\"varflag\",\"batchHeaderID\",\"local\",\"organic\",\"display\",\"receipt\",\"card_no\",\"store\",\"branch\",\"match_id\",\"trans_id\"\n",
      "\n",
      "\"datetime\";\"register_no\";\"emp_no\";\"trans_no\";\"upc\";\"description\";\"trans_type\";\"trans_subtype\";\"trans_status\";\"department\";\"quantity\";\"Scale\";\"cost\";\"unitPrice\";\"total\";\"regPrice\";\"altPrice\";\"tax\";\"taxexempt\";\"foodstamp\";\"wicable\";\"discount\";\"memDiscount\";\"discountable\";\"discounttype\";\"voided\";\"percentDiscount\";\"ItemQtty\";\"volDiscType\";\"volume\";\"VolSpecial\";\"mixMatch\";\"matched\";\"memType\";\"staff\";\"numflag\";\"itemstatus\";\"tenderstatus\";\"charflag\";\"varflag\";\"batchHeaderID\";\"local\";\"organic\";\"display\";\"receipt\";\"card_no\";\"store\";\"branch\";\"match_id\";\"trans_id\"\n",
      "\n",
      "\"datetime\",\"register_no\",\"emp_no\",\"trans_no\",\"upc\",\"description\",\"trans_type\",\"trans_subtype\",\"trans_status\",\"department\",\"quantity\",\"Scale\",\"cost\",\"unitPrice\",\"total\",\"regPrice\",\"altPrice\",\"tax\",\"taxexempt\",\"foodstamp\",\"wicable\",\"discount\",\"memDiscount\",\"discountable\",\"discounttype\",\"voided\",\"percentDiscount\",\"ItemQtty\",\"volDiscType\",\"volume\",\"VolSpecial\",\"mixMatch\",\"matched\",\"memType\",\"staff\",\"numflag\",\"itemstatus\",\"tenderstatus\",\"charflag\",\"varflag\",\"batchHeaderID\",\"local\",\"organic\",\"display\",\"receipt\",\"card_no\",\"store\",\"branch\",\"match_id\",\"trans_id\"\n",
      "\n",
      "\"datetime\";\"register_no\";\"emp_no\";\"trans_no\";\"upc\";\"description\";\"trans_type\";\"trans_subtype\";\"trans_status\";\"department\";\"quantity\";\"Scale\";\"cost\";\"unitPrice\";\"total\";\"regPrice\";\"altPrice\";\"tax\";\"taxexempt\";\"foodstamp\";\"wicable\";\"discount\";\"memDiscount\";\"discountable\";\"discounttype\";\"voided\";\"percentDiscount\";\"ItemQtty\";\"volDiscType\";\"volume\";\"VolSpecial\";\"mixMatch\";\"matched\";\"memType\";\"staff\";\"numflag\";\"itemstatus\";\"tenderstatus\";\"charflag\";\"varflag\";\"batchHeaderID\";\"local\";\"organic\";\"display\";\"receipt\";\"card_no\";\"store\";\"branch\";\"match_id\";\"trans_id\"\n",
      "\n",
      "\"datetime\",\"register_no\",\"emp_no\",\"trans_no\",\"upc\",\"description\",\"trans_type\",\"trans_subtype\",\"trans_status\",\"department\",\"quantity\",\"Scale\",\"cost\",\"unitPrice\",\"total\",\"regPrice\",\"altPrice\",\"tax\",\"taxexempt\",\"foodstamp\",\"wicable\",\"discount\",\"memDiscount\",\"discountable\",\"discounttype\",\"voided\",\"percentDiscount\",\"ItemQtty\",\"volDiscType\",\"volume\",\"VolSpecial\",\"mixMatch\",\"matched\",\"memType\",\"staff\",\"numflag\",\"itemstatus\",\"tenderstatus\",\"charflag\",\"varflag\",\"batchHeaderID\",\"local\",\"organic\",\"display\",\"receipt\",\"card_no\",\"store\",\"branch\",\"match_id\",\"trans_id\"\n",
      "\n",
      "\"datetime\";\"register_no\";\"emp_no\";\"trans_no\";\"upc\";\"description\";\"trans_type\";\"trans_subtype\";\"trans_status\";\"department\";\"quantity\";\"Scale\";\"cost\";\"unitPrice\";\"total\";\"regPrice\";\"altPrice\";\"tax\";\"taxexempt\";\"foodstamp\";\"wicable\";\"discount\";\"memDiscount\";\"discountable\";\"discounttype\";\"voided\";\"percentDiscount\";\"ItemQtty\";\"volDiscType\";\"volume\";\"VolSpecial\";\"mixMatch\";\"matched\";\"memType\";\"staff\";\"numflag\";\"itemstatus\";\"tenderstatus\";\"charflag\";\"varflag\";\"batchHeaderID\";\"local\";\"organic\";\"display\";\"receipt\";\"card_no\";\"store\";\"branch\";\"match_id\";\"trans_id\"\n",
      "\n",
      "\"datetime\",\"register_no\",\"emp_no\",\"trans_no\",\"upc\",\"description\",\"trans_type\",\"trans_subtype\",\"trans_status\",\"department\",\"quantity\",\"Scale\",\"cost\",\"unitPrice\",\"total\",\"regPrice\",\"altPrice\",\"tax\",\"taxexempt\",\"foodstamp\",\"wicable\",\"discount\",\"memDiscount\",\"discountable\",\"discounttype\",\"voided\",\"percentDiscount\",\"ItemQtty\",\"volDiscType\",\"volume\",\"VolSpecial\",\"mixMatch\",\"matched\",\"memType\",\"staff\",\"numflag\",\"itemstatus\",\"tenderstatus\",\"charflag\",\"varflag\",\"batchHeaderID\",\"local\",\"organic\",\"display\",\"receipt\",\"card_no\",\"store\",\"branch\",\"match_id\",\"trans_id\"\n",
      "\n",
      "\"datetime\";\"register_no\";\"emp_no\";\"trans_no\";\"upc\";\"description\";\"trans_type\";\"trans_subtype\";\"trans_status\";\"department\";\"quantity\";\"Scale\";\"cost\";\"unitPrice\";\"total\";\"regPrice\";\"altPrice\";\"tax\";\"taxexempt\";\"foodstamp\";\"wicable\";\"discount\";\"memDiscount\";\"discountable\";\"discounttype\";\"voided\";\"percentDiscount\";\"ItemQtty\";\"volDiscType\";\"volume\";\"VolSpecial\";\"mixMatch\";\"matched\";\"memType\";\"staff\";\"numflag\";\"itemstatus\";\"tenderstatus\";\"charflag\";\"varflag\";\"batchHeaderID\";\"local\";\"organic\";\"display\";\"receipt\";\"card_no\";\"store\";\"branch\";\"match_id\";\"trans_id\"\n",
      "\n",
      "\"datetime\",\"register_no\",\"emp_no\",\"trans_no\",\"upc\",\"description\",\"trans_type\",\"trans_subtype\",\"trans_status\",\"department\",\"quantity\",\"Scale\",\"cost\",\"unitPrice\",\"total\",\"regPrice\",\"altPrice\",\"tax\",\"taxexempt\",\"foodstamp\",\"wicable\",\"discount\",\"memDiscount\",\"discountable\",\"discounttype\",\"voided\",\"percentDiscount\",\"ItemQtty\",\"volDiscType\",\"volume\",\"VolSpecial\",\"mixMatch\",\"matched\",\"memType\",\"staff\",\"numflag\",\"itemstatus\",\"tenderstatus\",\"charflag\",\"varflag\",\"batchHeaderID\",\"local\",\"organic\",\"display\",\"receipt\",\"card_no\",\"store\",\"branch\",\"match_id\",\"trans_id\"\n",
      "\n",
      "\"datetime\";\"register_no\";\"emp_no\";\"trans_no\";\"upc\";\"description\";\"trans_type\";\"trans_subtype\";\"trans_status\";\"department\";\"quantity\";\"Scale\";\"cost\";\"unitPrice\";\"total\";\"regPrice\";\"altPrice\";\"tax\";\"taxexempt\";\"foodstamp\";\"wicable\";\"discount\";\"memDiscount\";\"discountable\";\"discounttype\";\"voided\";\"percentDiscount\";\"ItemQtty\";\"volDiscType\";\"volume\";\"VolSpecial\";\"mixMatch\";\"matched\";\"memType\";\"staff\";\"numflag\";\"itemstatus\";\"tenderstatus\";\"charflag\";\"varflag\";\"batchHeaderID\";\"local\";\"organic\";\"display\";\"receipt\";\"card_no\";\"store\";\"branch\";\"match_id\";\"trans_id\"\n",
      "\n",
      "\"datetime\",\"register_no\",\"emp_no\",\"trans_no\",\"upc\",\"description\",\"trans_type\",\"trans_subtype\",\"trans_status\",\"department\",\"quantity\",\"Scale\",\"cost\",\"unitPrice\",\"total\",\"regPrice\",\"altPrice\",\"tax\",\"taxexempt\",\"foodstamp\",\"wicable\",\"discount\",\"memDiscount\",\"discountable\",\"discounttype\",\"voided\",\"percentDiscount\",\"ItemQtty\",\"volDiscType\",\"volume\",\"VolSpecial\",\"mixMatch\",\"matched\",\"memType\",\"staff\",\"numflag\",\"itemstatus\",\"tenderstatus\",\"charflag\",\"varflag\",\"batchHeaderID\",\"local\",\"organic\",\"display\",\"receipt\",\"card_no\",\"store\",\"branch\",\"match_id\",\"trans_id\"\n",
      "\n",
      "\"datetime\";\"register_no\";\"emp_no\";\"trans_no\";\"upc\";\"description\";\"trans_type\";\"trans_subtype\";\"trans_status\";\"department\";\"quantity\";\"Scale\";\"cost\";\"unitPrice\";\"total\";\"regPrice\";\"altPrice\";\"tax\";\"taxexempt\";\"foodstamp\";\"wicable\";\"discount\";\"memDiscount\";\"discountable\";\"discounttype\";\"voided\";\"percentDiscount\";\"ItemQtty\";\"volDiscType\";\"volume\";\"VolSpecial\";\"mixMatch\";\"matched\";\"memType\";\"staff\";\"numflag\";\"itemstatus\";\"tenderstatus\";\"charflag\";\"varflag\";\"batchHeaderID\";\"local\";\"organic\";\"display\";\"receipt\";\"card_no\";\"store\";\"branch\";\"match_id\";\"trans_id\"\n",
      "\n",
      "\"datetime\",\"register_no\",\"emp_no\",\"trans_no\",\"upc\",\"description\",\"trans_type\",\"trans_subtype\",\"trans_status\",\"department\",\"quantity\",\"Scale\",\"cost\",\"unitPrice\",\"total\",\"regPrice\",\"altPrice\",\"tax\",\"taxexempt\",\"foodstamp\",\"wicable\",\"discount\",\"memDiscount\",\"discountable\",\"discounttype\",\"voided\",\"percentDiscount\",\"ItemQtty\",\"volDiscType\",\"volume\",\"VolSpecial\",\"mixMatch\",\"matched\",\"memType\",\"staff\",\"numflag\",\"itemstatus\",\"tenderstatus\",\"charflag\",\"varflag\",\"batchHeaderID\",\"local\",\"organic\",\"display\",\"receipt\",\"card_no\",\"store\",\"branch\",\"match_id\",\"trans_id\"\n",
      "\n",
      "\"datetime\";\"register_no\";\"emp_no\";\"trans_no\";\"upc\";\"description\";\"trans_type\";\"trans_subtype\";\"trans_status\";\"department\";\"quantity\";\"Scale\";\"cost\";\"unitPrice\";\"total\";\"regPrice\";\"altPrice\";\"tax\";\"taxexempt\";\"foodstamp\";\"wicable\";\"discount\";\"memDiscount\";\"discountable\";\"discounttype\";\"voided\";\"percentDiscount\";\"ItemQtty\";\"volDiscType\";\"volume\";\"VolSpecial\";\"mixMatch\";\"matched\";\"memType\";\"staff\";\"numflag\";\"itemstatus\";\"tenderstatus\";\"charflag\";\"varflag\";\"batchHeaderID\";\"local\";\"organic\";\"display\";\"receipt\";\"card_no\";\"store\";\"branch\";\"match_id\";\"trans_id\"\n",
      "\n",
      "\"datetime\",\"register_no\",\"emp_no\",\"trans_no\",\"upc\",\"description\",\"trans_type\",\"trans_subtype\",\"trans_status\",\"department\",\"quantity\",\"Scale\",\"cost\",\"unitPrice\",\"total\",\"regPrice\",\"altPrice\",\"tax\",\"taxexempt\",\"foodstamp\",\"wicable\",\"discount\",\"memDiscount\",\"discountable\",\"discounttype\",\"voided\",\"percentDiscount\",\"ItemQtty\",\"volDiscType\",\"volume\",\"VolSpecial\",\"mixMatch\",\"matched\",\"memType\",\"staff\",\"numflag\",\"itemstatus\",\"tenderstatus\",\"charflag\",\"varflag\",\"batchHeaderID\",\"local\",\"organic\",\"display\",\"receipt\",\"card_no\",\"store\",\"branch\",\"match_id\",\"trans_id\"\n",
      "\n",
      "\"datetime\";\"register_no\";\"emp_no\";\"trans_no\";\"upc\";\"description\";\"trans_type\";\"trans_subtype\";\"trans_status\";\"department\";\"quantity\";\"Scale\";\"cost\";\"unitPrice\";\"total\";\"regPrice\";\"altPrice\";\"tax\";\"taxexempt\";\"foodstamp\";\"wicable\";\"discount\";\"memDiscount\";\"discountable\";\"discounttype\";\"voided\";\"percentDiscount\";\"ItemQtty\";\"volDiscType\";\"volume\";\"VolSpecial\";\"mixMatch\";\"matched\";\"memType\";\"staff\";\"numflag\";\"itemstatus\";\"tenderstatus\";\"charflag\";\"varflag\";\"batchHeaderID\";\"local\";\"organic\";\"display\";\"receipt\";\"card_no\";\"store\";\"branch\";\"match_id\";\"trans_id\"\n",
      "\n",
      "\"datetime\",\"register_no\",\"emp_no\",\"trans_no\",\"upc\",\"description\",\"trans_type\",\"trans_subtype\",\"trans_status\",\"department\",\"quantity\",\"Scale\",\"cost\",\"unitPrice\",\"total\",\"regPrice\",\"altPrice\",\"tax\",\"taxexempt\",\"foodstamp\",\"wicable\",\"discount\",\"memDiscount\",\"discountable\",\"discounttype\",\"voided\",\"percentDiscount\",\"ItemQtty\",\"volDiscType\",\"volume\",\"VolSpecial\",\"mixMatch\",\"matched\",\"memType\",\"staff\",\"numflag\",\"itemstatus\",\"tenderstatus\",\"charflag\",\"varflag\",\"batchHeaderID\",\"local\",\"organic\",\"display\",\"receipt\",\"card_no\",\"store\",\"branch\",\"match_id\",\"trans_id\"\n",
      "\n",
      "\"datetime\",\"register_no\",\"emp_no\",\"trans_no\",\"upc\",\"description\",\"trans_type\",\"trans_subtype\",\"trans_status\",\"department\",\"quantity\",\"Scale\",\"cost\",\"unitPrice\",\"total\",\"regPrice\",\"altPrice\",\"tax\",\"taxexempt\",\"foodstamp\",\"wicable\",\"discount\",\"memDiscount\",\"discountable\",\"discounttype\",\"voided\",\"percentDiscount\",\"ItemQtty\",\"volDiscType\",\"volume\",\"VolSpecial\",\"mixMatch\",\"matched\",\"memType\",\"staff\",\"numflag\",\"itemstatus\",\"tenderstatus\",\"charflag\",\"varflag\",\"batchHeaderID\",\"local\",\"organic\",\"display\",\"receipt\",\"card_no\",\"store\",\"branch\",\"match_id\",\"trans_id\"\n",
      "\n",
      "\"datetime\",\"register_no\",\"emp_no\",\"trans_no\",\"upc\",\"description\",\"trans_type\",\"trans_subtype\",\"trans_status\",\"department\",\"quantity\",\"Scale\",\"cost\",\"unitPrice\",\"total\",\"regPrice\",\"altPrice\",\"tax\",\"taxexempt\",\"foodstamp\",\"wicable\",\"discount\",\"memDiscount\",\"discountable\",\"discounttype\",\"voided\",\"percentDiscount\",\"ItemQtty\",\"volDiscType\",\"volume\",\"VolSpecial\",\"mixMatch\",\"matched\",\"memType\",\"staff\",\"numflag\",\"itemstatus\",\"tenderstatus\",\"charflag\",\"varflag\",\"batchHeaderID\",\"local\",\"organic\",\"display\",\"receipt\",\"card_no\",\"store\",\"branch\",\"match_id\",\"trans_id\"\n",
      "\n",
      "\"datetime\",\"register_no\",\"emp_no\",\"trans_no\",\"upc\",\"description\",\"trans_type\",\"trans_subtype\",\"trans_status\",\"department\",\"quantity\",\"Scale\",\"cost\",\"unitPrice\",\"total\",\"regPrice\",\"altPrice\",\"tax\",\"taxexempt\",\"foodstamp\",\"wicable\",\"discount\",\"memDiscount\",\"discountable\",\"discounttype\",\"voided\",\"percentDiscount\",\"ItemQtty\",\"volDiscType\",\"volume\",\"VolSpecial\",\"mixMatch\",\"matched\",\"memType\",\"staff\",\"numflag\",\"itemstatus\",\"tenderstatus\",\"charflag\",\"varflag\",\"batchHeaderID\",\"local\",\"organic\",\"display\",\"receipt\",\"card_no\",\"store\",\"branch\",\"match_id\",\"trans_id\"\n",
      "\n",
      "2015-11-01 07:21:50,51,94,4,TAX,Tax,A,,,0,0,0,0.0000,0.0000,0.4800,0.0000,\\N,0,0,0,\\N,0.0000,0.0000,0,0,0,\\N,0,0,0,0.0000,0,0,0,\\N,0,0,0,,\\N,\\N,0,\\N,,0,52595,1,3,0,12\n",
      "\n",
      "2015-12-01 07:03:06,51,94,2,TAX,Tax,A,,,0,0,0,0.0000,0.0000,0.0000,0.0000,,0,0,0,,0.0000,0.0000,0,0,0,,0,0,0,0.0000,0,0,0,,0,0,0,,,,0,,,0,3,1,3,0,7\n",
      "\n",
      "2016-01-01 09:12:14,51,94,3,0000000000039,Wedge Scone,I, , ,8,3,0,0.5160,2.4900,7.4700,2.4900,\\N,0,0,1,\\N,0.0000,0.0000,1,0,0,\\N,3,0,0,0.0000,0,0,0,\\N,5,0,0,,\\N,\\N,0,0,,0,3,1,3,0,10\n",
      "\n",
      "2016-02-01 07:16:56,51,94,3,TAX,Tax,A,,,0,0,0,0.0000,0.0000,0.2700,0.0000,\\N,0,0,0,\\N,0.0000,0.0000,0,0,0,\\N,0,0,0,0.0000,0,0,0,\\N,0,0,0,,\\N,\\N,0,\\N,,0,3,1,3,0,10\n",
      "\n",
      "2016-03-01 07:04:38,51,94,2,TAX,Tax,A,,,0,0,0,0.0000,0.0000,0.0000,0.0000,\\N,0,0,0,\\N,0.0000,0.0000,0,0,0,\\N,0,0,0,0.0000,0,0,0,\\N,0,0,0,,\\N,\\N,0,\\N,,0,3,1,3,0,10\n",
      "\n",
      "2016-04-01 07:34:35,51,94,18,0,Cash,T,CA,,0,0,0,0.0000,0.0000,-5.0000,0.0000,\\N,0,0,0,\\N,0.0000,0.0000,0,0,0,\\N,0,0,0,0.0000,0,0,0,\\N,0,0,0,,\\N,\\N,0,\\N,,0,49019,1,3,0,9\n",
      "\n",
      "2016-05-01 11:23:35,51,94,113,0000000004365,BBOWL SuperSoba Chicken/Seitan,I, , ,8,1,0,0.0000,10.0000,10.0000,10.0000,\\N,1,0,0,0,0.0000,0.0000,7,0,0,0.00000000,1,0,0,0.0000,0,0,0,\\N,1,0,0,,\\N,\\N,0,0,,0,12539,1,3,0,4\n",
      "\n",
      "2016-06-01 08:04:44,51,94,41,0000000000151,Banana Organic,I, , ,2,1.45,1,0.8900,1.1900,1.7300,1.1900,\\N,0,0,1,1,0.0000,0.0000,1,0,0,10.00000000,1.45,0,0,0.0000,0,0,0,\\N,0,0,0,,\\N,\\N,0,1,,0,12367,1,3,0,2\n",
      "\n",
      "2016-07-01 07:06:15,51,94,1,0065722700050,Electrolyte Water 1.5L Essenti,I, , ,1,3,0,1.5800,2.6900,8.0700,2.6900,\\N,0,0,1,0,0.0000,0.0000,1,0,0,0.00000000,3,0,0,0.0000,0,0,0,\\N,0,0,0,,\\N,\\N,0,0,,0,3,1,3,0,1\n",
      "\n",
      "2016-08-01 07:34:16,51,94,7,0000000000151,Banana Organic,I, , ,2,0.52,1,0.8900,1.1900,0.6200,1.1900,\\N,0,0,1,1,0.0000,0.0000,1,0,0,0.00000000,0.52,0,0,0.0000,0,0,0,\\N,0,0,0,,\\N,\\N,0,1,,0,21998,1,3,0,2\n",
      "\n",
      "2016-09-01 07:13:09,51,94,6,0,Change,T,CA,,0,0,0,0.0000,0.0000,0.0000,0.0000,\\N,0,0,0,0,0.0000,0.0000,0,0,8,\\N,0,0,0,0.0000,0,0,0,\\N,0,0,0,,\\N,\\N,0,\\N,,0,20074,1,3,0,7\n",
      "\n",
      "2016-10-01 07:04:40,51,94,1,DISCOUNT,Discount,I,,,0,1,0,0.0000,0.0000,0.0000,0.0000,\\N,0,0,0,0,0.0000,0.0000,0,0,0,\\N,1,0,0,0.0000,0,0,0,\\N,0,0,0,,\\N,\\N,0,\\N,,0,49355,1,3,0,10\n",
      "\n",
      "2016-11-01 07:18:44,51,94,11,0000000001014,Green Patch Redemption,I, , ,1,1,0,0.0000,-0.1000,-0.1000,-0.1000,\\N,0,0,0,0,0.0000,0.0000,0,0,0,10.00000000,1,0,0,0.0000,0,0,0,\\N,4,0,0,,\\N,\\N,0,-1,,0,16646,1,3,0,13\n",
      "\n",
      "2016-12-01 07:43:01,51,94,23,0000000000049,Wedge Muffin,I, , ,8,1,0,0.6350,2.4900,2.4900,2.4900,\\N,0,0,1,0,0.0000,0.0000,7,0,0,10.00000000,1,0,0,0.0000,0,0,0,\\N,5,0,0,,\\N,\\N,0,0,,0,13863,1,3,0,2\n",
      "\n",
      "2017-01-01 09:00:31,51,94,12,0,Change,T,CA,,0,0,0,0.0000,0.0000,0.0000,0.0000,\\N,0,0,0,0,0.0000,0.0000,0,0,8,\\N,0,0,0,0.0000,0,0,0,\\N,0,0,0,,\\N,\\N,0,\\N,,0,24528,1,3,0,12\n",
      "\n"
     ]
    }
   ],
   "source": [
    "#Checking for headers\n",
    "headers = dict()\n",
    "\n",
    "for this_zf in zip_files :\n",
    "    with ZipFile(\"WedgeZipOfZips/\" + this_zf,'r') as zf :\n",
    "        zipped_files = zf.namelist()\n",
    "\n",
    "        for file_name in zipped_files :\n",
    "            input_file = zf.open(file_name,'r')\n",
    "            input_file = io.TextIOWrapper(input_file,encoding=\"utf-8\")\n",
    "            \n",
    "            this_delimiter = delimiters[file_name]\n",
    "            \n",
    "            for line in input_file :\n",
    "                #print(line.strip().split(this_delimiter))\n",
    "                break\n",
    "            print(line)\n",
    "            headers[file_name] = \"datetime\" in line\n",
    "                        \n",
    "            input_file.close() # tidy up"
   ]
  },
  {
   "cell_type": "code",
   "execution_count": 10,
   "id": "70b62ed1",
   "metadata": {
    "collapsed": true
   },
   "outputs": [
    {
     "data": {
      "text/plain": [
       "{'transArchive_201001_201003.csv': True,\n",
       " 'transArchive_201004_201006.csv': True,\n",
       " 'transArchive_201007_201009.csv': True,\n",
       " 'transArchive_201010_201012.csv': True,\n",
       " 'transArchive_201101_201103.csv': True,\n",
       " 'transArchive_201104.csv': True,\n",
       " 'transArchive_201105.csv': True,\n",
       " 'transArchive_201106.csv': True,\n",
       " 'transArchive_201107_201109.csv': True,\n",
       " 'transArchive_201110_201112.csv': True,\n",
       " 'transArchive_201201_201203.csv': True,\n",
       " 'transArchive_201201_201203_inactive.csv': True,\n",
       " 'transArchive_201204_201206.csv': True,\n",
       " 'transArchive_201204_201206_inactive.csv': True,\n",
       " 'transArchive_201207_201209.csv': True,\n",
       " 'transArchive_201207_201209_inactive.csv': True,\n",
       " 'transArchive_201210_201212.csv': True,\n",
       " 'transArchive_201210_201212_inactive.csv': True,\n",
       " 'transArchive_201301_201303.csv': True,\n",
       " 'transArchive_201301_201303_inactive.csv': True,\n",
       " 'transArchive_201304_201306.csv': True,\n",
       " 'transArchive_201304_201306_inactive.csv': True,\n",
       " 'transArchive_201307_201309.csv': True,\n",
       " 'transArchive_201307_201309_inactive.csv': True,\n",
       " 'transArchive_201310_201312.csv': True,\n",
       " 'transArchive_201310_201312_inactive.csv': True,\n",
       " 'transArchive_201401_201403.csv': True,\n",
       " 'transArchive_201401_201403_inactive.csv': True,\n",
       " 'transArchive_201404_201406.csv': True,\n",
       " 'transArchive_201404_201406_inactive.csv': True,\n",
       " 'transArchive_201407_201409.csv': True,\n",
       " 'transArchive_201407_201409_inactive.csv': True,\n",
       " 'transArchive_201410_201412.csv': True,\n",
       " 'transArchive_201410_201412_inactive.csv': True,\n",
       " 'transArchive_201501_201503.csv': True,\n",
       " 'transArchive_201504_201506.csv': True,\n",
       " 'transArchive_201507_201509.csv': True,\n",
       " 'transArchive_201510.csv': True,\n",
       " 'transArchive_201511.csv': False,\n",
       " 'transArchive_201512.csv': False,\n",
       " 'transArchive_201601.csv': False,\n",
       " 'transArchive_201602.csv': False,\n",
       " 'transArchive_201603.csv': False,\n",
       " 'transArchive_201604.csv': False,\n",
       " 'transArchive_201605.csv': False,\n",
       " 'transArchive_201606.csv': False,\n",
       " 'transArchive_201607.csv': False,\n",
       " 'transArchive_201608.csv': False,\n",
       " 'transArchive_201609.csv': False,\n",
       " 'transArchive_201610.csv': False,\n",
       " 'transArchive_201611.csv': False,\n",
       " 'transArchive_201612.csv': False,\n",
       " 'transArchive_201701.csv': False}"
      ]
     },
     "execution_count": 10,
     "metadata": {},
     "output_type": "execute_result"
    }
   ],
   "source": [
    "headers"
   ]
  },
  {
   "cell_type": "code",
   "execution_count": 11,
   "id": "4ced11b0",
   "metadata": {
    "collapsed": true
   },
   "outputs": [
    {
     "data": {
      "text/plain": [
       "['transArchive_201512.csv',\n",
       " 'transArchive_201604.csv',\n",
       " 'transArchive_201605.csv']"
      ]
     },
     "execution_count": 11,
     "metadata": {},
     "output_type": "execute_result"
    }
   ],
   "source": [
    "#this creates list of file names where we moved the unzipped wedge files\n",
    "unzipped_files = os.listdir(\"Wedge_Unzipped\")\n",
    "#unzipped_files = unzipped_files[1:] no longer necessary after moving no_headers folder\n",
    "unzipped_files"
   ]
  },
  {
   "cell_type": "code",
   "execution_count": 12,
   "id": "b0f9fe92",
   "metadata": {
    "collapsed": true
   },
   "outputs": [
    {
     "name": "stdout",
     "output_type": "stream",
     "text": [
      "transArchive_201512.csv\n",
      "\n",
      "960017\n",
      "\n",
      "10099\n",
      "\n",
      "30\n",
      "\n",
      "transArchive_201604.csv\n",
      "\n",
      "930359\n",
      "\n",
      "9700\n",
      "\n",
      "30\n",
      "\n",
      "transArchive_201605.csv\n",
      "\n"
     ]
    },
    {
     "name": "stderr",
     "output_type": "stream",
     "text": [
      "C:\\Users\\rsmcd\\AppData\\Local\\Temp\\ipykernel_17496\\4061926461.py:17: DtypeWarning: Columns (18,36,37,41,43,44,48) have mixed types. Specify dtype option on import or set low_memory=False.\n",
      "  big_wedge = pd.read_csv('Wedge_Unzipped\\\\'+uz_file,sep=delimiters[uz_file]) #reads in files to big_wedge\n"
     ]
    },
    {
     "name": "stdout",
     "output_type": "stream",
     "text": [
      "938769\n",
      "\n",
      "9440\n",
      "\n",
      "31\n",
      "\n"
     ]
    }
   ],
   "source": [
    "#this reads list of all csv into new variable big_wedge\n",
    "\n",
    "files = [] #place to store list of filenames\n",
    "cards = [] #list to store # unique card_nos\n",
    "rows = [] #count number of rows for each file and store\n",
    "dates = [] #count number of dates for each file and store\n",
    "\n",
    "#sep=delimiters.uz_file\n",
    "#go across unzipped files\n",
    "\n",
    "for uz_file in unzipped_files :\n",
    "    \n",
    "    files.append(uz_file) #fills files list with file names\n",
    "    print(uz_file)\n",
    "    print()\n",
    "    \n",
    "    big_wedge = pd.read_csv('Wedge_Unzipped\\\\'+uz_file,sep=delimiters[uz_file]) #reads in files to big_wedge\n",
    "    \n",
    "    num_rows = big_wedge.count()[0] #fills rows list with count of rows\n",
    "    rows.append(num_rows)\n",
    "    print(num_rows)\n",
    "    print()\n",
    "    \n",
    "    num_cards = big_wedge.card_no.nunique() #fills cards list with count of unique card nos\n",
    "    cards.append(num_cards) \n",
    "    print(num_cards)\n",
    "    print()\n",
    "    \n",
    "    big_wedge['date'] = pd.to_datetime(big_wedge['datetime']).dt.floor('D')\n",
    "    \n",
    "    num_dates = big_wedge.date.nunique() #fills dates list with unique dates\n",
    "    dates.append(num_dates)\n",
    "    print(num_dates)\n",
    "    print()\n",
    "    \n",
    "    #break\n",
    "#print(big_wedge)"
   ]
  },
  {
   "cell_type": "code",
   "execution_count": 13,
   "id": "6891a30d",
   "metadata": {
    "collapsed": true
   },
   "outputs": [],
   "source": [
    "#assign the lists of summary data we created in the previous cell to our dataframe wedge_summary\n",
    "wedge_summary.file_name = files\n",
    "wedge_summary.num_cards = cards\n",
    "wedge_summary.num_rows = rows\n",
    "wedge_summary.num_dates = dates"
   ]
  },
  {
   "cell_type": "code",
   "execution_count": 14,
   "id": "6cf6f7a1",
   "metadata": {
    "collapsed": true
   },
   "outputs": [
    {
     "data": {
      "text/html": [
       "<div>\n",
       "<style scoped>\n",
       "    .dataframe tbody tr th:only-of-type {\n",
       "        vertical-align: middle;\n",
       "    }\n",
       "\n",
       "    .dataframe tbody tr th {\n",
       "        vertical-align: top;\n",
       "    }\n",
       "\n",
       "    .dataframe thead th {\n",
       "        text-align: right;\n",
       "    }\n",
       "</style>\n",
       "<table border=\"1\" class=\"dataframe\">\n",
       "  <thead>\n",
       "    <tr style=\"text-align: right;\">\n",
       "      <th></th>\n",
       "      <th>file_name</th>\n",
       "      <th>num_rows</th>\n",
       "      <th>num_cards</th>\n",
       "      <th>num_dates</th>\n",
       "    </tr>\n",
       "  </thead>\n",
       "  <tbody>\n",
       "    <tr>\n",
       "      <th>0</th>\n",
       "      <td>transArchive_201512.csv</td>\n",
       "      <td>960017</td>\n",
       "      <td>10099</td>\n",
       "      <td>30</td>\n",
       "    </tr>\n",
       "    <tr>\n",
       "      <th>1</th>\n",
       "      <td>transArchive_201604.csv</td>\n",
       "      <td>930359</td>\n",
       "      <td>9700</td>\n",
       "      <td>30</td>\n",
       "    </tr>\n",
       "    <tr>\n",
       "      <th>2</th>\n",
       "      <td>transArchive_201605.csv</td>\n",
       "      <td>938769</td>\n",
       "      <td>9440</td>\n",
       "      <td>31</td>\n",
       "    </tr>\n",
       "  </tbody>\n",
       "</table>\n",
       "</div>"
      ],
      "text/plain": [
       "                 file_name  num_rows  num_cards  num_dates\n",
       "0  transArchive_201512.csv    960017      10099         30\n",
       "1  transArchive_201604.csv    930359       9700         30\n",
       "2  transArchive_201605.csv    938769       9440         31"
      ]
     },
     "execution_count": 14,
     "metadata": {},
     "output_type": "execute_result"
    }
   ],
   "source": [
    "#look at it\n",
    "wedge_summary"
   ]
  },
  {
   "cell_type": "code",
   "execution_count": 15,
   "id": "ba227711",
   "metadata": {
    "collapsed": true
   },
   "outputs": [],
   "source": [
    "##################################################################################### now we need to upload the data to GBQ"
   ]
  },
  {
   "cell_type": "code",
   "execution_count": 16,
   "id": "79551e08",
   "metadata": {
    "collapsed": true
   },
   "outputs": [],
   "source": [
    "#building the private key\n",
    "service_path = \"C:\\\\Users\\\\rsmcd\\\\OneDrive\\\\Desktop\\\\MSBA Fall 2022\\\\\" #path to json file\n",
    "service_file = 'reese-msba-9558fdd20984.json' #name of json file\n",
    "gbq_proj_id = 'reese-msba' #name of project\n",
    "\n",
    "#creats single variable that leads to json file\n",
    "private_key =service_path + service_file  "
   ]
  },
  {
   "cell_type": "code",
   "execution_count": 17,
   "id": "473de799",
   "metadata": {
    "collapsed": true
   },
   "outputs": [],
   "source": [
    "# Now we pass in our credentials so that Python has permission to access our project.\n",
    "credentials = service_account.Credentials.from_service_account_file(service_path + service_file)"
   ]
  },
  {
   "cell_type": "code",
   "execution_count": 18,
   "id": "7f10cad8",
   "metadata": {
    "collapsed": true
   },
   "outputs": [],
   "source": [
    "# And finally we establish our connection\n",
    "client = bigquery.Client(credentials = credentials, project=gbq_proj_id)"
   ]
  },
  {
   "cell_type": "code",
   "execution_count": 19,
   "id": "c1b244db",
   "metadata": {
    "collapsed": true
   },
   "outputs": [
    {
     "name": "stdout",
     "output_type": "stream",
     "text": [
      "reese-msba:dram_shop\n",
      "reese-msba:wedge_transactions\n"
     ]
    }
   ],
   "source": [
    "#look at list of data sets in client\n",
    "for item in client.list_datasets() : \n",
    "    print(item.full_dataset_id)"
   ]
  },
  {
   "cell_type": "code",
   "execution_count": 59,
   "id": "24b31536",
   "metadata": {
    "collapsed": true
   },
   "outputs": [
    {
     "name": "stderr",
     "output_type": "stream",
     "text": [
      "100%|████████████████████████████████████████████████████████████████████████████████████████████| 1/1 [00:00<?, ?it/s]\n",
      "100%|████████████████████████████████████████████████████████████████████████████████████████████| 1/1 [00:00<?, ?it/s]\n",
      "100%|████████████████████████████████████████████████████████████████████████████████████████████| 1/1 [00:00<?, ?it/s]\n",
      "C:\\Users\\rsmcd\\AppData\\Local\\Temp\\ipykernel_17496\\3338158786.py:8: DtypeWarning: Columns (43) have mixed types. Specify dtype option on import or set low_memory=False.\n",
      "  big_wedge = pd.read_csv('Wedge_Unzipped\\\\'+uz_file,sep=delimiters[uz_file], encoding = \"utf-8\") #reads in files to big_wedge using file specific delimiters\n",
      "100%|████████████████████████████████████████████████████████████████████████████████████████████| 1/1 [00:00<?, ?it/s]\n",
      "100%|████████████████████████████████████████████████████████████████████████████████████████████| 1/1 [00:00<?, ?it/s]\n",
      "100%|████████████████████████████████████████████████████████████████████████████████████████████| 1/1 [00:00<?, ?it/s]\n",
      "100%|████████████████████████████████████████████████████████████████████████████████████████████| 1/1 [00:00<?, ?it/s]\n",
      "100%|████████████████████████████████████████████████████████████████████████████████████████████| 1/1 [00:00<?, ?it/s]\n",
      "100%|████████████████████████████████████████████████████████████████████████████████████████████| 1/1 [00:00<?, ?it/s]\n",
      "100%|████████████████████████████████████████████████████████████████████████████████████████████| 1/1 [00:00<?, ?it/s]\n",
      "100%|████████████████████████████████████████████████████████████████████████████████████████████| 1/1 [00:00<?, ?it/s]\n",
      "C:\\Users\\rsmcd\\AppData\\Local\\Temp\\ipykernel_17496\\3338158786.py:8: DtypeWarning: Columns (42) have mixed types. Specify dtype option on import or set low_memory=False.\n",
      "  big_wedge = pd.read_csv('Wedge_Unzipped\\\\'+uz_file,sep=delimiters[uz_file], encoding = \"utf-8\") #reads in files to big_wedge using file specific delimiters\n",
      "100%|████████████████████████████████████████████████████████████████████████████████████████████| 1/1 [00:00<?, ?it/s]\n",
      "C:\\Users\\rsmcd\\AppData\\Local\\Temp\\ipykernel_17496\\3338158786.py:8: DtypeWarning: Columns (33) have mixed types. Specify dtype option on import or set low_memory=False.\n",
      "  big_wedge = pd.read_csv('Wedge_Unzipped\\\\'+uz_file,sep=delimiters[uz_file], encoding = \"utf-8\") #reads in files to big_wedge using file specific delimiters\n",
      "100%|████████████████████████████████████████████████████████████████████████████████████████████| 1/1 [00:00<?, ?it/s]\n",
      "C:\\Users\\rsmcd\\AppData\\Local\\Temp\\ipykernel_17496\\3338158786.py:8: DtypeWarning: Columns (42) have mixed types. Specify dtype option on import or set low_memory=False.\n",
      "  big_wedge = pd.read_csv('Wedge_Unzipped\\\\'+uz_file,sep=delimiters[uz_file], encoding = \"utf-8\") #reads in files to big_wedge using file specific delimiters\n",
      "100%|████████████████████████████████████████████████████████████████████████████████████████████| 1/1 [00:00<?, ?it/s]\n",
      "C:\\Users\\rsmcd\\AppData\\Local\\Temp\\ipykernel_17496\\3338158786.py:8: DtypeWarning: Columns (33) have mixed types. Specify dtype option on import or set low_memory=False.\n",
      "  big_wedge = pd.read_csv('Wedge_Unzipped\\\\'+uz_file,sep=delimiters[uz_file], encoding = \"utf-8\") #reads in files to big_wedge using file specific delimiters\n",
      "100%|████████████████████████████████████████████████████████████████████████████████████████████| 1/1 [00:00<?, ?it/s]\n",
      "C:\\Users\\rsmcd\\AppData\\Local\\Temp\\ipykernel_17496\\3338158786.py:8: DtypeWarning: Columns (33,42) have mixed types. Specify dtype option on import or set low_memory=False.\n",
      "  big_wedge = pd.read_csv('Wedge_Unzipped\\\\'+uz_file,sep=delimiters[uz_file], encoding = \"utf-8\") #reads in files to big_wedge using file specific delimiters\n",
      "100%|████████████████████████████████████████████████████████████████████████████████████████████| 1/1 [00:00<?, ?it/s]\n",
      "C:\\Users\\rsmcd\\AppData\\Local\\Temp\\ipykernel_17496\\3338158786.py:8: DtypeWarning: Columns (33) have mixed types. Specify dtype option on import or set low_memory=False.\n",
      "  big_wedge = pd.read_csv('Wedge_Unzipped\\\\'+uz_file,sep=delimiters[uz_file], encoding = \"utf-8\") #reads in files to big_wedge using file specific delimiters\n",
      "100%|████████████████████████████████████████████████████████████████████████████████████████████| 1/1 [00:00<?, ?it/s]\n",
      "C:\\Users\\rsmcd\\AppData\\Local\\Temp\\ipykernel_17496\\3338158786.py:8: DtypeWarning: Columns (33,42) have mixed types. Specify dtype option on import or set low_memory=False.\n",
      "  big_wedge = pd.read_csv('Wedge_Unzipped\\\\'+uz_file,sep=delimiters[uz_file], encoding = \"utf-8\") #reads in files to big_wedge using file specific delimiters\n",
      "100%|████████████████████████████████████████████████████████████████████████████████████████████| 1/1 [00:00<?, ?it/s]\n",
      "C:\\Users\\rsmcd\\AppData\\Local\\Temp\\ipykernel_17496\\3338158786.py:8: DtypeWarning: Columns (33) have mixed types. Specify dtype option on import or set low_memory=False.\n",
      "  big_wedge = pd.read_csv('Wedge_Unzipped\\\\'+uz_file,sep=delimiters[uz_file], encoding = \"utf-8\") #reads in files to big_wedge using file specific delimiters\n",
      "100%|████████████████████████████████████████████████████████████████████████████████████████████| 1/1 [00:00<?, ?it/s]\n",
      "C:\\Users\\rsmcd\\AppData\\Local\\Temp\\ipykernel_17496\\3338158786.py:8: DtypeWarning: Columns (33,42) have mixed types. Specify dtype option on import or set low_memory=False.\n",
      "  big_wedge = pd.read_csv('Wedge_Unzipped\\\\'+uz_file,sep=delimiters[uz_file], encoding = \"utf-8\") #reads in files to big_wedge using file specific delimiters\n",
      "100%|████████████████████████████████████████████████████████████████████████████████████████████| 1/1 [00:00<?, ?it/s]\n",
      "C:\\Users\\rsmcd\\AppData\\Local\\Temp\\ipykernel_17496\\3338158786.py:8: DtypeWarning: Columns (33) have mixed types. Specify dtype option on import or set low_memory=False.\n",
      "  big_wedge = pd.read_csv('Wedge_Unzipped\\\\'+uz_file,sep=delimiters[uz_file], encoding = \"utf-8\") #reads in files to big_wedge using file specific delimiters\n",
      "100%|████████████████████████████████████████████████████████████████████████████████████████████| 1/1 [00:00<?, ?it/s]\n",
      "C:\\Users\\rsmcd\\AppData\\Local\\Temp\\ipykernel_17496\\3338158786.py:8: DtypeWarning: Columns (33,42) have mixed types. Specify dtype option on import or set low_memory=False.\n",
      "  big_wedge = pd.read_csv('Wedge_Unzipped\\\\'+uz_file,sep=delimiters[uz_file], encoding = \"utf-8\") #reads in files to big_wedge using file specific delimiters\n",
      "100%|████████████████████████████████████████████████████████████████████████████████████████████| 1/1 [00:00<?, ?it/s]\n",
      "C:\\Users\\rsmcd\\AppData\\Local\\Temp\\ipykernel_17496\\3338158786.py:8: DtypeWarning: Columns (33) have mixed types. Specify dtype option on import or set low_memory=False.\n",
      "  big_wedge = pd.read_csv('Wedge_Unzipped\\\\'+uz_file,sep=delimiters[uz_file], encoding = \"utf-8\") #reads in files to big_wedge using file specific delimiters\n",
      "100%|████████████████████████████████████████████████████████████████████████████████████████████| 1/1 [00:00<?, ?it/s]\n",
      "C:\\Users\\rsmcd\\AppData\\Local\\Temp\\ipykernel_17496\\3338158786.py:8: DtypeWarning: Columns (42) have mixed types. Specify dtype option on import or set low_memory=False.\n",
      "  big_wedge = pd.read_csv('Wedge_Unzipped\\\\'+uz_file,sep=delimiters[uz_file], encoding = \"utf-8\") #reads in files to big_wedge using file specific delimiters\n",
      "100%|████████████████████████████████████████████████████████████████████████████████████████████| 1/1 [00:00<?, ?it/s]\n",
      "C:\\Users\\rsmcd\\AppData\\Local\\Temp\\ipykernel_17496\\3338158786.py:8: DtypeWarning: Columns (33,43) have mixed types. Specify dtype option on import or set low_memory=False.\n",
      "  big_wedge = pd.read_csv('Wedge_Unzipped\\\\'+uz_file,sep=delimiters[uz_file], encoding = \"utf-8\") #reads in files to big_wedge using file specific delimiters\n",
      "100%|████████████████████████████████████████████████████████████████████████████████████████████| 1/1 [00:00<?, ?it/s]\n",
      "100%|████████████████████████████████████████████████████████████████████████████████████████████| 1/1 [00:00<?, ?it/s]\n",
      "C:\\Users\\rsmcd\\AppData\\Local\\Temp\\ipykernel_17496\\3338158786.py:8: DtypeWarning: Columns (33,43) have mixed types. Specify dtype option on import or set low_memory=False.\n",
      "  big_wedge = pd.read_csv('Wedge_Unzipped\\\\'+uz_file,sep=delimiters[uz_file], encoding = \"utf-8\") #reads in files to big_wedge using file specific delimiters\n"
     ]
    },
    {
     "name": "stderr",
     "output_type": "stream",
     "text": [
      "100%|████████████████████████████████████████████████████████████████████████████████████| 1/1 [00:00<00:00, 64.01it/s]\n",
      "C:\\Users\\rsmcd\\AppData\\Local\\Temp\\ipykernel_17496\\3338158786.py:8: DtypeWarning: Columns (43) have mixed types. Specify dtype option on import or set low_memory=False.\n",
      "  big_wedge = pd.read_csv('Wedge_Unzipped\\\\'+uz_file,sep=delimiters[uz_file], encoding = \"utf-8\") #reads in files to big_wedge using file specific delimiters\n",
      "100%|████████████████████████████████████████████████████████████████████████████████████████████| 1/1 [00:00<?, ?it/s]\n",
      "C:\\Users\\rsmcd\\AppData\\Local\\Temp\\ipykernel_17496\\3338158786.py:8: DtypeWarning: Columns (33,43) have mixed types. Specify dtype option on import or set low_memory=False.\n",
      "  big_wedge = pd.read_csv('Wedge_Unzipped\\\\'+uz_file,sep=delimiters[uz_file], encoding = \"utf-8\") #reads in files to big_wedge using file specific delimiters\n",
      "100%|████████████████████████████████████████████████████████████████████████████████████████████| 1/1 [00:00<?, ?it/s]\n",
      "100%|████████████████████████████████████████████████████████████████████████████████████████████| 1/1 [00:00<?, ?it/s]\n",
      "100%|████████████████████████████████████████████████████████████████████████████████████████████| 1/1 [00:00<?, ?it/s]\n",
      "100%|████████████████████████████████████████████████████████████████████████████████████████████| 1/1 [00:00<?, ?it/s]\n",
      "100%|████████████████████████████████████████████████████████████████████████████████████████████| 1/1 [00:00<?, ?it/s]\n",
      "100%|████████████████████████████████████████████████████████████████████████████████████████████| 1/1 [00:00<?, ?it/s]\n",
      "100%|████████████████████████████████████████████████████████████████████████████████████████████| 1/1 [00:00<?, ?it/s]\n",
      "100%|████████████████████████████████████████████████████████████████████████████████████████████| 1/1 [00:00<?, ?it/s]\n",
      "100%|████████████████████████████████████████████████████████████████████████████████████████████| 1/1 [00:00<?, ?it/s]\n",
      "100%|████████████████████████████████████████████████████████████████████████████████████████████| 1/1 [00:00<?, ?it/s]\n",
      "C:\\Users\\rsmcd\\AppData\\Local\\Temp\\ipykernel_17496\\3338158786.py:8: DtypeWarning: Columns (18,36,37,41,43,44,48) have mixed types. Specify dtype option on import or set low_memory=False.\n",
      "  big_wedge = pd.read_csv('Wedge_Unzipped\\\\'+uz_file,sep=delimiters[uz_file], encoding = \"utf-8\") #reads in files to big_wedge using file specific delimiters\n",
      "100%|████████████████████████████████████████████████████████████████████████████████████████████| 1/1 [00:00<?, ?it/s]\n",
      "100%|████████████████████████████████████████████████████████████████████████████████████████████| 1/1 [00:00<?, ?it/s]\n",
      "100%|████████████████████████████████████████████████████████████████████████████████████████████| 1/1 [00:00<?, ?it/s]\n",
      "100%|████████████████████████████████████████████████████████████████████████████████████████████| 1/1 [00:00<?, ?it/s]\n",
      "100%|████████████████████████████████████████████████████████████████████████████████████████████| 1/1 [00:00<?, ?it/s]\n",
      "100%|████████████████████████████████████████████████████████████████████████████████████████████| 1/1 [00:00<?, ?it/s]\n",
      "C:\\Users\\rsmcd\\AppData\\Local\\Temp\\ipykernel_17496\\3338158786.py:8: DtypeWarning: Columns (18,36,37,41,43,44,48) have mixed types. Specify dtype option on import or set low_memory=False.\n",
      "  big_wedge = pd.read_csv('Wedge_Unzipped\\\\'+uz_file,sep=delimiters[uz_file], encoding = \"utf-8\") #reads in files to big_wedge using file specific delimiters\n",
      "100%|████████████████████████████████████████████████████████████████████████████████████████████| 1/1 [00:00<?, ?it/s]\n",
      "100%|████████████████████████████████████████████████████████████████████████████████████████████| 1/1 [00:00<?, ?it/s]\n",
      "C:\\Users\\rsmcd\\AppData\\Local\\Temp\\ipykernel_17496\\3338158786.py:8: DtypeWarning: Columns (18,36,37,41,43,44,48) have mixed types. Specify dtype option on import or set low_memory=False.\n",
      "  big_wedge = pd.read_csv('Wedge_Unzipped\\\\'+uz_file,sep=delimiters[uz_file], encoding = \"utf-8\") #reads in files to big_wedge using file specific delimiters\n",
      "100%|████████████████████████████████████████████████████████████████████████████████████████████| 1/1 [00:00<?, ?it/s]\n",
      "C:\\Users\\rsmcd\\AppData\\Local\\Temp\\ipykernel_17496\\3338158786.py:8: DtypeWarning: Columns (18,36,37,41,43,44,48) have mixed types. Specify dtype option on import or set low_memory=False.\n",
      "  big_wedge = pd.read_csv('Wedge_Unzipped\\\\'+uz_file,sep=delimiters[uz_file], encoding = \"utf-8\") #reads in files to big_wedge using file specific delimiters\n",
      "100%|████████████████████████████████████████████████████████████████████████████████████████████| 1/1 [00:00<?, ?it/s]\n",
      "C:\\Users\\rsmcd\\AppData\\Local\\Temp\\ipykernel_17496\\3338158786.py:8: DtypeWarning: Columns (18,36,37,41,43,44,48) have mixed types. Specify dtype option on import or set low_memory=False.\n",
      "  big_wedge = pd.read_csv('Wedge_Unzipped\\\\'+uz_file,sep=delimiters[uz_file], encoding = \"utf-8\") #reads in files to big_wedge using file specific delimiters\n",
      "100%|████████████████████████████████████████████████████████████████████████████████████████████| 1/1 [00:00<?, ?it/s]\n",
      "C:\\Users\\rsmcd\\AppData\\Local\\Temp\\ipykernel_17496\\3338158786.py:8: DtypeWarning: Columns (18,36,37,41,43,44,48) have mixed types. Specify dtype option on import or set low_memory=False.\n",
      "  big_wedge = pd.read_csv('Wedge_Unzipped\\\\'+uz_file,sep=delimiters[uz_file], encoding = \"utf-8\") #reads in files to big_wedge using file specific delimiters\n",
      "100%|████████████████████████████████████████████████████████████████████████████████████████████| 1/1 [00:00<?, ?it/s]\n",
      "100%|████████████████████████████████████████████████████████████████████████████████████████████| 1/1 [00:00<?, ?it/s]\n",
      "C:\\Users\\rsmcd\\AppData\\Local\\Temp\\ipykernel_17496\\3338158786.py:8: DtypeWarning: Columns (18,36,37,41,43,44,48) have mixed types. Specify dtype option on import or set low_memory=False.\n",
      "  big_wedge = pd.read_csv('Wedge_Unzipped\\\\'+uz_file,sep=delimiters[uz_file], encoding = \"utf-8\") #reads in files to big_wedge using file specific delimiters\n",
      "100%|████████████████████████████████████████████████████████████████████████████████████████████| 1/1 [00:00<?, ?it/s]\n",
      "C:\\Users\\rsmcd\\AppData\\Local\\Temp\\ipykernel_17496\\3338158786.py:8: DtypeWarning: Columns (18,36,37,41,43,44,48) have mixed types. Specify dtype option on import or set low_memory=False.\n",
      "  big_wedge = pd.read_csv('Wedge_Unzipped\\\\'+uz_file,sep=delimiters[uz_file], encoding = \"utf-8\") #reads in files to big_wedge using file specific delimiters\n",
      "100%|████████████████████████████████████████████████████████████████████████████████████████████| 1/1 [00:00<?, ?it/s]\n"
     ]
    }
   ],
   "source": [
    "gbq_proj_id = 'reese-msba'\n",
    "dataset_id = 'wedge_transactions'\n",
    "unzipped_files = os.listdir(\"Wedge_Unzipped\")\n",
    "unzipped_files\n",
    "\n",
    "for uz_file in unzipped_files :\n",
    "    \n",
    "    big_wedge = pd.read_csv('Wedge_Unzipped\\\\'+uz_file,sep=delimiters[uz_file], encoding = \"utf-8\") #reads in files to big_wedge using file specific delimiters\n",
    "    big_wedge = big_wedge.replace(r'\\N', np.nan).replace(r' ', np.nan) #replaces all \\N and ' ' with gbq ready null values\n",
    "    for idx, column in enumerate(big_wedge) : \n",
    "        if big_wedge[column].dtypes == object : #converts all object columns to strings and replaces 'nan' with gbq ready null values\n",
    "            big_wedge = big_wedge.astype({column :'str'}).replace('nan', np.nan)\n",
    "        if big_wedge[column].dtypes == \"int64\" : #converts all integer columns to floats\n",
    "            big_wedge = big_wedge.astype({column :'float'})\n",
    "    big_wedge['datetime'] = pd.to_datetime(big_wedge['datetime']) #converts datetime columns to timestamp\n",
    "    cols = ['wicable','taxexempt','percentDiscount','receipt','match_id','local','organic','itemstatus','tenderstatus'] #list of columns to convert to float\n",
    "    for idx, col in enumerate(cols) :\n",
    "        big_wedge[col] = pd.to_numeric(big_wedge[col]) #converts cols to float\n",
    "    cols2 = ['memType','staff','batchHeaderID','display'] #list of columns to convert to boolean\n",
    "    for idx, col in enumerate(cols2) :\n",
    "        big_wedge[col] = big_wedge[col].map({1:True, 0:False}).astype('boolean') #maps 1 and 0 to True and False, then converts to boolean while preserving null values\n",
    "#     break\n",
    "\n",
    "#uploads all to gbq\n",
    "    table_name, _ = uz_file.split(\".\")\n",
    "    table_id = \".\".join([gbq_proj_id,dataset_id,table_name])\n",
    "    pandas_gbq.to_gbq(big_wedge, table_id, project_id=gbq_proj_id,if_exists=\"replace\")\n",
    "#     break    \n",
    "\n",
    "###should wicable, taxexempt, local  be boolean???"
   ]
  },
  {
   "cell_type": "code",
   "execution_count": null,
   "id": "c283bee0",
   "metadata": {
    "scrolled": true
   },
   "outputs": [],
   "source": [
    "# # Code used to deal with header problem: must eventually figure out how to iterate through these with for loop\n",
    "# # First, but after extraction, had to move all files with no headers to no_headers folder within Wedge_Unzipped\n",
    "# # Then these lines of code dealt with each file one by one and put them in the main directory\n",
    "# # Then had to move all files from main directory back into the Wedge_Unzipped folder\n",
    "# # Then moved no_headers folder out of Wedge_Unzipped\n",
    "\n",
    "# # Read csv file to a DataFrame\n",
    "# transArchive_201511 = pd.read_csv('Wedge_Unzipped\\\\no_headers\\\\transArchive_201511.csv', header = None)\n",
    "# # Write DataFrame to csv file, but with header\n",
    "# transArchive_201511.to_csv(\n",
    "#     \"transArchive_201511.csv\",\n",
    "#     header=[\"datetime\",\"register_no\",\"emp_no\",\"trans_no\",\"upc\",\"description\",\"trans_type\",\"trans_subtype\",\"trans_status\",\"department\",\"quantity\",\"Scale\",\"cost\",\"unitPrice\",\"total\",\"regPrice\",\"altPrice\",\"tax\",\"taxexempt\",\"foodstamp\",\"wicable\",\"discount\",\"memDiscount\",\"discountable\",\"discounttype\",\"voided\",\"percentDiscount\",\"ItemQtty\",\"volDiscType\",\"volume\",\"VolSpecial\",\"mixMatch\",\"matched\",\"memType\",\"staff\",\"numflag\",\"itemstatus\",\"tenderstatus\",\"charflag\",\"varflag\",\"batchHeaderID\",\"local\",\"organic\",\"display\",\"receipt\",\"card_no\",\"store\",\"branch\",\"match_id\",\"trans_id\"],\n",
    "#     index=False)\n",
    "\n",
    "# # Read csv file to a DataFrame\n",
    "# transArchive_201512 = pd.read_csv('Wedge_Unzipped\\\\no_headers\\\\transArchive_201512.csv', header = None)\n",
    "# # Write DataFrame to csv file, but with header\n",
    "# transArchive_201512.to_csv(\n",
    "#     \"transArchive_201512.csv\",\n",
    "#     header=[\"datetime\",\"register_no\",\"emp_no\",\"trans_no\",\"upc\",\"description\",\"trans_type\",\"trans_subtype\",\"trans_status\",\"department\",\"quantity\",\"Scale\",\"cost\",\"unitPrice\",\"total\",\"regPrice\",\"altPrice\",\"tax\",\"taxexempt\",\"foodstamp\",\"wicable\",\"discount\",\"memDiscount\",\"discountable\",\"discounttype\",\"voided\",\"percentDiscount\",\"ItemQtty\",\"volDiscType\",\"volume\",\"VolSpecial\",\"mixMatch\",\"matched\",\"memType\",\"staff\",\"numflag\",\"itemstatus\",\"tenderstatus\",\"charflag\",\"varflag\",\"batchHeaderID\",\"local\",\"organic\",\"display\",\"receipt\",\"card_no\",\"store\",\"branch\",\"match_id\",\"trans_id\"],\n",
    "#     index=False)\n",
    "\n",
    "# # Read csv file to a DataFrame\n",
    "# transArchive_201601 = pd.read_csv('Wedge_Unzipped\\\\no_headers\\\\transArchive_201601.csv', header = None)\n",
    "# # Write DataFrame to csv file, but with header\n",
    "# transArchive_201601.to_csv(\n",
    "#     \"transArchive_201601.csv\",\n",
    "#     header=[\"datetime\",\"register_no\",\"emp_no\",\"trans_no\",\"upc\",\"description\",\"trans_type\",\"trans_subtype\",\"trans_status\",\"department\",\"quantity\",\"Scale\",\"cost\",\"unitPrice\",\"total\",\"regPrice\",\"altPrice\",\"tax\",\"taxexempt\",\"foodstamp\",\"wicable\",\"discount\",\"memDiscount\",\"discountable\",\"discounttype\",\"voided\",\"percentDiscount\",\"ItemQtty\",\"volDiscType\",\"volume\",\"VolSpecial\",\"mixMatch\",\"matched\",\"memType\",\"staff\",\"numflag\",\"itemstatus\",\"tenderstatus\",\"charflag\",\"varflag\",\"batchHeaderID\",\"local\",\"organic\",\"display\",\"receipt\",\"card_no\",\"store\",\"branch\",\"match_id\",\"trans_id\"],\n",
    "#     index=False)\n",
    "\n",
    "# # Read csv file to a DataFrame\n",
    "# transArchive_201602 = pd.read_csv('Wedge_Unzipped\\\\no_headers\\\\transArchive_201602.csv', header = None)\n",
    "# # Write DataFrame to csv file, but with header\n",
    "# transArchive_201602.to_csv(\n",
    "#     \"transArchive_201602.csv\",\n",
    "#     header=[\"datetime\",\"register_no\",\"emp_no\",\"trans_no\",\"upc\",\"description\",\"trans_type\",\"trans_subtype\",\"trans_status\",\"department\",\"quantity\",\"Scale\",\"cost\",\"unitPrice\",\"total\",\"regPrice\",\"altPrice\",\"tax\",\"taxexempt\",\"foodstamp\",\"wicable\",\"discount\",\"memDiscount\",\"discountable\",\"discounttype\",\"voided\",\"percentDiscount\",\"ItemQtty\",\"volDiscType\",\"volume\",\"VolSpecial\",\"mixMatch\",\"matched\",\"memType\",\"staff\",\"numflag\",\"itemstatus\",\"tenderstatus\",\"charflag\",\"varflag\",\"batchHeaderID\",\"local\",\"organic\",\"display\",\"receipt\",\"card_no\",\"store\",\"branch\",\"match_id\",\"trans_id\"],\n",
    "#     index=False)\n",
    "\n",
    "# # Read csv file to a DataFrame\n",
    "# transArchive_201603 = pd.read_csv('Wedge_Unzipped\\\\no_headers\\\\transArchive_201603.csv', header = None)\n",
    "# # Write DataFrame to csv file, but with header\n",
    "# transArchive_201603.to_csv(\n",
    "#     \"transArchive_201603.csv\",\n",
    "#     header=[\"datetime\",\"register_no\",\"emp_no\",\"trans_no\",\"upc\",\"description\",\"trans_type\",\"trans_subtype\",\"trans_status\",\"department\",\"quantity\",\"Scale\",\"cost\",\"unitPrice\",\"total\",\"regPrice\",\"altPrice\",\"tax\",\"taxexempt\",\"foodstamp\",\"wicable\",\"discount\",\"memDiscount\",\"discountable\",\"discounttype\",\"voided\",\"percentDiscount\",\"ItemQtty\",\"volDiscType\",\"volume\",\"VolSpecial\",\"mixMatch\",\"matched\",\"memType\",\"staff\",\"numflag\",\"itemstatus\",\"tenderstatus\",\"charflag\",\"varflag\",\"batchHeaderID\",\"local\",\"organic\",\"display\",\"receipt\",\"card_no\",\"store\",\"branch\",\"match_id\",\"trans_id\"],\n",
    "#     index=False)\n",
    "\n",
    "# # Read csv file to a DataFrame\n",
    "# transArchive_201604 = pd.read_csv('Wedge_Unzipped\\\\no_headers\\\\transArchive_201604.csv', header = None)\n",
    "# # Write DataFrame to csv file, but with header\n",
    "# transArchive_201604.to_csv(\n",
    "#     \"transArchive_201604.csv\",\n",
    "#     header=[\"datetime\",\"register_no\",\"emp_no\",\"trans_no\",\"upc\",\"description\",\"trans_type\",\"trans_subtype\",\"trans_status\",\"department\",\"quantity\",\"Scale\",\"cost\",\"unitPrice\",\"total\",\"regPrice\",\"altPrice\",\"tax\",\"taxexempt\",\"foodstamp\",\"wicable\",\"discount\",\"memDiscount\",\"discountable\",\"discounttype\",\"voided\",\"percentDiscount\",\"ItemQtty\",\"volDiscType\",\"volume\",\"VolSpecial\",\"mixMatch\",\"matched\",\"memType\",\"staff\",\"numflag\",\"itemstatus\",\"tenderstatus\",\"charflag\",\"varflag\",\"batchHeaderID\",\"local\",\"organic\",\"display\",\"receipt\",\"card_no\",\"store\",\"branch\",\"match_id\",\"trans_id\"],\n",
    "#     index=False)\n",
    "\n",
    "# # Read csv file to a DataFrame\n",
    "# transArchive_201605 = pd.read_csv('Wedge_Unzipped\\\\no_headers\\\\transArchive_201605.csv', header = None)\n",
    "# # Write DataFrame to csv file, but with header\n",
    "# transArchive_201605.to_csv(\n",
    "#     \"transArchive_201605.csv\",\n",
    "#     header=[\"datetime\",\"register_no\",\"emp_no\",\"trans_no\",\"upc\",\"description\",\"trans_type\",\"trans_subtype\",\"trans_status\",\"department\",\"quantity\",\"Scale\",\"cost\",\"unitPrice\",\"total\",\"regPrice\",\"altPrice\",\"tax\",\"taxexempt\",\"foodstamp\",\"wicable\",\"discount\",\"memDiscount\",\"discountable\",\"discounttype\",\"voided\",\"percentDiscount\",\"ItemQtty\",\"volDiscType\",\"volume\",\"VolSpecial\",\"mixMatch\",\"matched\",\"memType\",\"staff\",\"numflag\",\"itemstatus\",\"tenderstatus\",\"charflag\",\"varflag\",\"batchHeaderID\",\"local\",\"organic\",\"display\",\"receipt\",\"card_no\",\"store\",\"branch\",\"match_id\",\"trans_id\"],\n",
    "#     index=False)\n",
    "\n",
    "# # Read csv file to a DataFrame\n",
    "# transArchive_201606 = pd.read_csv('Wedge_Unzipped\\\\no_headers\\\\transArchive_201606.csv', header = None)\n",
    "# # Write DataFrame to csv file, but with header\n",
    "# transArchive_201606.to_csv(\n",
    "#     \"transArchive_201606.csv\",\n",
    "#     header=[\"datetime\",\"register_no\",\"emp_no\",\"trans_no\",\"upc\",\"description\",\"trans_type\",\"trans_subtype\",\"trans_status\",\"department\",\"quantity\",\"Scale\",\"cost\",\"unitPrice\",\"total\",\"regPrice\",\"altPrice\",\"tax\",\"taxexempt\",\"foodstamp\",\"wicable\",\"discount\",\"memDiscount\",\"discountable\",\"discounttype\",\"voided\",\"percentDiscount\",\"ItemQtty\",\"volDiscType\",\"volume\",\"VolSpecial\",\"mixMatch\",\"matched\",\"memType\",\"staff\",\"numflag\",\"itemstatus\",\"tenderstatus\",\"charflag\",\"varflag\",\"batchHeaderID\",\"local\",\"organic\",\"display\",\"receipt\",\"card_no\",\"store\",\"branch\",\"match_id\",\"trans_id\"],\n",
    "#     index=False)\n",
    "\n",
    "# # Read csv file to a DataFrame\n",
    "# transArchive_201607 = pd.read_csv('Wedge_Unzipped\\\\no_headers\\\\transArchive_201607.csv', header = None)\n",
    "# # Write DataFrame to csv file, but with header\n",
    "# transArchive_201607.to_csv(\n",
    "#     \"transArchive_201607.csv\",\n",
    "#     header=[\"datetime\",\"register_no\",\"emp_no\",\"trans_no\",\"upc\",\"description\",\"trans_type\",\"trans_subtype\",\"trans_status\",\"department\",\"quantity\",\"Scale\",\"cost\",\"unitPrice\",\"total\",\"regPrice\",\"altPrice\",\"tax\",\"taxexempt\",\"foodstamp\",\"wicable\",\"discount\",\"memDiscount\",\"discountable\",\"discounttype\",\"voided\",\"percentDiscount\",\"ItemQtty\",\"volDiscType\",\"volume\",\"VolSpecial\",\"mixMatch\",\"matched\",\"memType\",\"staff\",\"numflag\",\"itemstatus\",\"tenderstatus\",\"charflag\",\"varflag\",\"batchHeaderID\",\"local\",\"organic\",\"display\",\"receipt\",\"card_no\",\"store\",\"branch\",\"match_id\",\"trans_id\"],\n",
    "#     index=False)\n",
    "\n",
    "# # Read csv file to a DataFrame\n",
    "# transArchive_201608 = pd.read_csv('Wedge_Unzipped\\\\no_headers\\\\transArchive_201608.csv', header = None)\n",
    "# # Write DataFrame to csv file, but with header\n",
    "# transArchive_201608.to_csv(\n",
    "#     \"transArchive_201608.csv\",\n",
    "#     header=[\"datetime\",\"register_no\",\"emp_no\",\"trans_no\",\"upc\",\"description\",\"trans_type\",\"trans_subtype\",\"trans_status\",\"department\",\"quantity\",\"Scale\",\"cost\",\"unitPrice\",\"total\",\"regPrice\",\"altPrice\",\"tax\",\"taxexempt\",\"foodstamp\",\"wicable\",\"discount\",\"memDiscount\",\"discountable\",\"discounttype\",\"voided\",\"percentDiscount\",\"ItemQtty\",\"volDiscType\",\"volume\",\"VolSpecial\",\"mixMatch\",\"matched\",\"memType\",\"staff\",\"numflag\",\"itemstatus\",\"tenderstatus\",\"charflag\",\"varflag\",\"batchHeaderID\",\"local\",\"organic\",\"display\",\"receipt\",\"card_no\",\"store\",\"branch\",\"match_id\",\"trans_id\"],\n",
    "#     index=False)\n",
    "\n",
    "# # Read csv file to a DataFrame\n",
    "# transArchive_201609 = pd.read_csv('Wedge_Unzipped\\\\no_headers\\\\transArchive_201609.csv', header = None)\n",
    "# # Write DataFrame to csv file, but with header\n",
    "# transArchive_201609.to_csv(\n",
    "#     \"transArchive_201609.csv\",\n",
    "#     header=[\"datetime\",\"register_no\",\"emp_no\",\"trans_no\",\"upc\",\"description\",\"trans_type\",\"trans_subtype\",\"trans_status\",\"department\",\"quantity\",\"Scale\",\"cost\",\"unitPrice\",\"total\",\"regPrice\",\"altPrice\",\"tax\",\"taxexempt\",\"foodstamp\",\"wicable\",\"discount\",\"memDiscount\",\"discountable\",\"discounttype\",\"voided\",\"percentDiscount\",\"ItemQtty\",\"volDiscType\",\"volume\",\"VolSpecial\",\"mixMatch\",\"matched\",\"memType\",\"staff\",\"numflag\",\"itemstatus\",\"tenderstatus\",\"charflag\",\"varflag\",\"batchHeaderID\",\"local\",\"organic\",\"display\",\"receipt\",\"card_no\",\"store\",\"branch\",\"match_id\",\"trans_id\"],\n",
    "#     index=False)\n",
    "\n",
    "# # Read csv file to a DataFrame\n",
    "# transArchive_201610 = pd.read_csv('Wedge_Unzipped\\\\no_headers\\\\transArchive_201610.csv', header = None)\n",
    "# # Write DataFrame to csv file, but with header\n",
    "# transArchive_201610.to_csv(\n",
    "#     \"transArchive_201610.csv\",\n",
    "#     header=[\"datetime\",\"register_no\",\"emp_no\",\"trans_no\",\"upc\",\"description\",\"trans_type\",\"trans_subtype\",\"trans_status\",\"department\",\"quantity\",\"Scale\",\"cost\",\"unitPrice\",\"total\",\"regPrice\",\"altPrice\",\"tax\",\"taxexempt\",\"foodstamp\",\"wicable\",\"discount\",\"memDiscount\",\"discountable\",\"discounttype\",\"voided\",\"percentDiscount\",\"ItemQtty\",\"volDiscType\",\"volume\",\"VolSpecial\",\"mixMatch\",\"matched\",\"memType\",\"staff\",\"numflag\",\"itemstatus\",\"tenderstatus\",\"charflag\",\"varflag\",\"batchHeaderID\",\"local\",\"organic\",\"display\",\"receipt\",\"card_no\",\"store\",\"branch\",\"match_id\",\"trans_id\"],\n",
    "#     index=False)\n",
    "\n",
    "# # Read csv file to a DataFrame\n",
    "# transArchive_201611 = pd.read_csv('Wedge_Unzipped\\\\no_headers\\\\transArchive_201611.csv', header = None)\n",
    "# # Write DataFrame to csv file, but with header\n",
    "# transArchive_201611.to_csv(\n",
    "#     \"transArchive_201611.csv\",\n",
    "#     header=[\"datetime\",\"register_no\",\"emp_no\",\"trans_no\",\"upc\",\"description\",\"trans_type\",\"trans_subtype\",\"trans_status\",\"department\",\"quantity\",\"Scale\",\"cost\",\"unitPrice\",\"total\",\"regPrice\",\"altPrice\",\"tax\",\"taxexempt\",\"foodstamp\",\"wicable\",\"discount\",\"memDiscount\",\"discountable\",\"discounttype\",\"voided\",\"percentDiscount\",\"ItemQtty\",\"volDiscType\",\"volume\",\"VolSpecial\",\"mixMatch\",\"matched\",\"memType\",\"staff\",\"numflag\",\"itemstatus\",\"tenderstatus\",\"charflag\",\"varflag\",\"batchHeaderID\",\"local\",\"organic\",\"display\",\"receipt\",\"card_no\",\"store\",\"branch\",\"match_id\",\"trans_id\"],\n",
    "#     index=False)\n",
    "\n",
    "# # Read csv file to a DataFrame\n",
    "# transArchive_201612 = pd.read_csv('Wedge_Unzipped\\\\no_headers\\\\transArchive_201612.csv', header = None)\n",
    "# # Write DataFrame to csv file, but with header\n",
    "# transArchive_201612.to_csv(\n",
    "#     \"transArchive_201612.csv\",\n",
    "#     header=[\"datetime\",\"register_no\",\"emp_no\",\"trans_no\",\"upc\",\"description\",\"trans_type\",\"trans_subtype\",\"trans_status\",\"department\",\"quantity\",\"Scale\",\"cost\",\"unitPrice\",\"total\",\"regPrice\",\"altPrice\",\"tax\",\"taxexempt\",\"foodstamp\",\"wicable\",\"discount\",\"memDiscount\",\"discountable\",\"discounttype\",\"voided\",\"percentDiscount\",\"ItemQtty\",\"volDiscType\",\"volume\",\"VolSpecial\",\"mixMatch\",\"matched\",\"memType\",\"staff\",\"numflag\",\"itemstatus\",\"tenderstatus\",\"charflag\",\"varflag\",\"batchHeaderID\",\"local\",\"organic\",\"display\",\"receipt\",\"card_no\",\"store\",\"branch\",\"match_id\",\"trans_id\"],\n",
    "#     index=False)\n",
    "\n",
    "# # Read csv file to a DataFrame\n",
    "# transArchive_201701 = pd.read_csv('Wedge_Unzipped\\\\no_headers\\\\transArchive_201701.csv', header = None)\n",
    "# # Write DataFrame to csv file, but with header\n",
    "# transArchive_201701.to_csv(\n",
    "#     \"transArchive_201701.csv\",\n",
    "#     header=[\"datetime\",\"register_no\",\"emp_no\",\"trans_no\",\"upc\",\"description\",\"trans_type\",\"trans_subtype\",\"trans_status\",\"department\",\"quantity\",\"Scale\",\"cost\",\"unitPrice\",\"total\",\"regPrice\",\"altPrice\",\"tax\",\"taxexempt\",\"foodstamp\",\"wicable\",\"discount\",\"memDiscount\",\"discountable\",\"discounttype\",\"voided\",\"percentDiscount\",\"ItemQtty\",\"volDiscType\",\"volume\",\"VolSpecial\",\"mixMatch\",\"matched\",\"memType\",\"staff\",\"numflag\",\"itemstatus\",\"tenderstatus\",\"charflag\",\"varflag\",\"batchHeaderID\",\"local\",\"organic\",\"display\",\"receipt\",\"card_no\",\"store\",\"branch\",\"match_id\",\"trans_id\"],\n",
    "#     index=False)"
   ]
  }
 ],
 "metadata": {
  "kernelspec": {
   "display_name": "Python 3 (ipykernel)",
   "language": "python",
   "name": "python3"
  },
  "language_info": {
   "codemirror_mode": {
    "name": "ipython",
    "version": 3
   },
   "file_extension": ".py",
   "mimetype": "text/x-python",
   "name": "python",
   "nbconvert_exporter": "python",
   "pygments_lexer": "ipython3",
   "version": "3.9.12"
  }
 },
 "nbformat": 4,
 "nbformat_minor": 5
}
