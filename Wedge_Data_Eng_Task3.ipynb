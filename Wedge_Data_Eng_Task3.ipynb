{
 "cells": [
  {
   "cell_type": "markdown",
   "id": "c2a3af00",
   "metadata": {},
   "source": [
    "Task 3: Building a database of summary tables from the Wedge transaction data."
   ]
  },
  {
   "cell_type": "code",
   "execution_count": 1,
   "id": "5d4a6bc7",
   "metadata": {
    "collapsed": true
   },
   "outputs": [],
   "source": [
    "import sqlite3\n",
    "import os\n",
    "import re\n",
    "import datetime \n",
    "from zipfile import ZipFile\n",
    "import pandas as pd\n",
    "import numpy as np\n",
    "import pandas_gbq\n",
    "import janitor\n",
    "import shutil\n",
    "import glob\n",
    "from google.cloud import bigquery\n",
    "from google.oauth2 import service_account"
   ]
  },
  {
   "cell_type": "code",
   "execution_count": 2,
   "id": "6f48184f",
   "metadata": {
    "collapsed": true
   },
   "outputs": [],
   "source": [
    "# Building the private key.\n",
    "service_path = \"C:\\\\Users\\\\rsmcd\\\\OneDrive\\\\Desktop\\\\MSBA Fall 2022\\\\\" # Path to json file.\n",
    "service_file = 'reese-msba-9558fdd20984.json' # Name of json file.\n",
    "gbq_proj_id = 'reese-msba' # Name of project.\n",
    "\n",
    "# Creates single variable that leads to json file.\n",
    "private_key =service_path + service_file  "
   ]
  },
  {
   "cell_type": "code",
   "execution_count": 3,
   "id": "a8e8f656",
   "metadata": {
    "collapsed": true
   },
   "outputs": [],
   "source": [
    "# Now we pass in our credentials so that Python has permission to access our project.\n",
    "credentials = service_account.Credentials.from_service_account_file(service_path + service_file)"
   ]
  },
  {
   "cell_type": "code",
   "execution_count": 4,
   "id": "ac262fab",
   "metadata": {
    "collapsed": true
   },
   "outputs": [],
   "source": [
    "# And finally we establish our connection.\n",
    "client = bigquery.Client(credentials = credentials, project=gbq_proj_id)"
   ]
  },
  {
   "cell_type": "code",
   "execution_count": 5,
   "id": "d059c03c",
   "metadata": {
    "collapsed": true
   },
   "outputs": [
    {
     "name": "stdout",
     "output_type": "stream",
     "text": [
      "reese-msba:dram_shop\n",
      "reese-msba:wedge_transactions\n"
     ]
    }
   ],
   "source": [
    "# Look at list of data sets in client.\n",
    "for item in client.list_datasets() : \n",
    "    print(item.full_dataset_id)"
   ]
  },
  {
   "cell_type": "markdown",
   "id": "bda9e7c3",
   "metadata": {},
   "source": [
    "The following few cells access the Wedge data in GBQ to build the tables that will be used to build the dataframe."
   ]
  },
  {
   "cell_type": "code",
   "execution_count": 6,
   "id": "bea7a74e",
   "metadata": {
    "collapsed": true
   },
   "outputs": [
    {
     "name": "stderr",
     "output_type": "stream",
     "text": [
      "Downloading: 100%|██████████████████████████████████████████████████████████| 32562/32562 [00:02<00:00, 13555.87rows/s]\n"
     ]
    }
   ],
   "source": [
    "# Builds a table with date, hour, total spend, number of transactions, and number of items.\n",
    "query = \"\"\"\n",
    "SELECT EXTRACT(DATE FROM datetime) AS date\n",
    ", EXTRACT(HOUR FROM datetime) AS hour\n",
    ", ROUND(SUM(total), 2) AS spend \n",
    ", COUNT(DISTINCT CONCAT(CAST(EXTRACT(DATE FROM datetime) AS STRING), CAST(register_no AS STRING), CAST(emp_no AS STRING), CAST(trans_no AS STRING))) AS trans\n",
    ", SUM(CASE trans_status WHEN \"V\" THEN -1 WHEN \"R\" THEN -1 ELSE 1 END) AS items\n",
    "FROM `reese-msba.wedge_transactions.transArchive*` \n",
    "WHERE (department != 0\n",
    "AND department != 15)\n",
    "AND (trans_status IS NULL\n",
    "OR trans_status = \"V\"\n",
    "OR trans_status = \"R\"\n",
    "OR trans_status = '')\n",
    "GROUP BY date, hour\n",
    "ORDER BY date DESC, hour DESC\n",
    "\"\"\"\n",
    "\n",
    "date_hour_spend = pandas_gbq.read_gbq(query,project_id = gbq_proj_id)"
   ]
  },
  {
   "cell_type": "code",
   "execution_count": 7,
   "id": "9d28aba1",
   "metadata": {
    "collapsed": true
   },
   "outputs": [
    {
     "data": {
      "text/html": [
       "<div>\n",
       "<style scoped>\n",
       "    .dataframe tbody tr th:only-of-type {\n",
       "        vertical-align: middle;\n",
       "    }\n",
       "\n",
       "    .dataframe tbody tr th {\n",
       "        vertical-align: top;\n",
       "    }\n",
       "\n",
       "    .dataframe thead th {\n",
       "        text-align: right;\n",
       "    }\n",
       "</style>\n",
       "<table border=\"1\" class=\"dataframe\">\n",
       "  <thead>\n",
       "    <tr style=\"text-align: right;\">\n",
       "      <th></th>\n",
       "      <th>date</th>\n",
       "      <th>hour</th>\n",
       "      <th>spend</th>\n",
       "      <th>trans</th>\n",
       "      <th>items</th>\n",
       "    </tr>\n",
       "  </thead>\n",
       "  <tbody>\n",
       "    <tr>\n",
       "      <th>0</th>\n",
       "      <td>2017-01-31</td>\n",
       "      <td>22</td>\n",
       "      <td>518.25</td>\n",
       "      <td>1</td>\n",
       "      <td>165</td>\n",
       "    </tr>\n",
       "    <tr>\n",
       "      <th>1</th>\n",
       "      <td>2017-01-31</td>\n",
       "      <td>21</td>\n",
       "      <td>43655.85</td>\n",
       "      <td>115</td>\n",
       "      <td>12495</td>\n",
       "    </tr>\n",
       "    <tr>\n",
       "      <th>2</th>\n",
       "      <td>2017-01-31</td>\n",
       "      <td>20</td>\n",
       "      <td>69527.40</td>\n",
       "      <td>160</td>\n",
       "      <td>18540</td>\n",
       "    </tr>\n",
       "    <tr>\n",
       "      <th>3</th>\n",
       "      <td>2017-01-31</td>\n",
       "      <td>19</td>\n",
       "      <td>80792.40</td>\n",
       "      <td>208</td>\n",
       "      <td>20670</td>\n",
       "    </tr>\n",
       "    <tr>\n",
       "      <th>4</th>\n",
       "      <td>2017-01-31</td>\n",
       "      <td>18</td>\n",
       "      <td>104887.80</td>\n",
       "      <td>255</td>\n",
       "      <td>25695</td>\n",
       "    </tr>\n",
       "    <tr>\n",
       "      <th>...</th>\n",
       "      <td>...</td>\n",
       "      <td>...</td>\n",
       "      <td>...</td>\n",
       "      <td>...</td>\n",
       "      <td>...</td>\n",
       "    </tr>\n",
       "    <tr>\n",
       "      <th>32557</th>\n",
       "      <td>2010-01-01</td>\n",
       "      <td>13</td>\n",
       "      <td>4654.52</td>\n",
       "      <td>154</td>\n",
       "      <td>1365</td>\n",
       "    </tr>\n",
       "    <tr>\n",
       "      <th>32558</th>\n",
       "      <td>2010-01-01</td>\n",
       "      <td>12</td>\n",
       "      <td>3886.51</td>\n",
       "      <td>124</td>\n",
       "      <td>1143</td>\n",
       "    </tr>\n",
       "    <tr>\n",
       "      <th>32559</th>\n",
       "      <td>2010-01-01</td>\n",
       "      <td>11</td>\n",
       "      <td>4001.66</td>\n",
       "      <td>118</td>\n",
       "      <td>1108</td>\n",
       "    </tr>\n",
       "    <tr>\n",
       "      <th>32560</th>\n",
       "      <td>2010-01-01</td>\n",
       "      <td>10</td>\n",
       "      <td>3128.55</td>\n",
       "      <td>82</td>\n",
       "      <td>913</td>\n",
       "    </tr>\n",
       "    <tr>\n",
       "      <th>32561</th>\n",
       "      <td>2010-01-01</td>\n",
       "      <td>9</td>\n",
       "      <td>1006.28</td>\n",
       "      <td>36</td>\n",
       "      <td>245</td>\n",
       "    </tr>\n",
       "  </tbody>\n",
       "</table>\n",
       "<p>32562 rows × 5 columns</p>\n",
       "</div>"
      ],
      "text/plain": [
       "             date  hour      spend  trans  items\n",
       "0      2017-01-31    22     518.25      1    165\n",
       "1      2017-01-31    21   43655.85    115  12495\n",
       "2      2017-01-31    20   69527.40    160  18540\n",
       "3      2017-01-31    19   80792.40    208  20670\n",
       "4      2017-01-31    18  104887.80    255  25695\n",
       "...           ...   ...        ...    ...    ...\n",
       "32557  2010-01-01    13    4654.52    154   1365\n",
       "32558  2010-01-01    12    3886.51    124   1143\n",
       "32559  2010-01-01    11    4001.66    118   1108\n",
       "32560  2010-01-01    10    3128.55     82    913\n",
       "32561  2010-01-01     9    1006.28     36    245\n",
       "\n",
       "[32562 rows x 5 columns]"
      ]
     },
     "execution_count": 7,
     "metadata": {},
     "output_type": "execute_result"
    }
   ],
   "source": [
    "date_hour_spend"
   ]
  },
  {
   "cell_type": "code",
   "execution_count": 8,
   "id": "413f84a3",
   "metadata": {
    "collapsed": true
   },
   "outputs": [
    {
     "name": "stderr",
     "output_type": "stream",
     "text": [
      "Downloading: 100%|████████████████████████████████████████████████████████| 676786/676786 [00:31<00:00, 21771.27rows/s]\n"
     ]
    }
   ],
   "source": [
    "# Builds a table with card_no, year, month, sales, number of transactions, and number of items.\n",
    "query = \"\"\"\n",
    "SELECT card_no\n",
    ", EXTRACT(YEAR FROM datetime) AS year\n",
    ", EXTRACT(MONTH FROM datetime) AS month\n",
    ", ROUND(SUM(total), 2) AS sales \n",
    ", COUNT(DISTINCT CONCAT(CAST(EXTRACT(DATE FROM datetime) AS STRING), CAST(register_no AS STRING), CAST(emp_no AS STRING), CAST(trans_no AS STRING))) AS trans\n",
    ", SUM(CASE trans_status WHEN \"V\" THEN -1 WHEN \"R\" THEN -1 ELSE 1 END) AS items\n",
    "FROM `reese-msba.wedge_transactions.transArchive*` \n",
    "WHERE (department != 0\n",
    "AND department != 15)\n",
    "AND (trans_status IS NULL\n",
    "OR trans_status = \"V\"\n",
    "OR trans_status = \"R\"\n",
    "OR trans_status = '')\n",
    "GROUP BY card_no, year, month \n",
    "ORDER BY year DESC, month DESC\n",
    "\"\"\"\n",
    "\n",
    "owner_spend = pandas_gbq.read_gbq(query,project_id = gbq_proj_id)"
   ]
  },
  {
   "cell_type": "code",
   "execution_count": 9,
   "id": "d0e79b1b",
   "metadata": {
    "collapsed": true
   },
   "outputs": [
    {
     "data": {
      "text/html": [
       "<div>\n",
       "<style scoped>\n",
       "    .dataframe tbody tr th:only-of-type {\n",
       "        vertical-align: middle;\n",
       "    }\n",
       "\n",
       "    .dataframe tbody tr th {\n",
       "        vertical-align: top;\n",
       "    }\n",
       "\n",
       "    .dataframe thead th {\n",
       "        text-align: right;\n",
       "    }\n",
       "</style>\n",
       "<table border=\"1\" class=\"dataframe\">\n",
       "  <thead>\n",
       "    <tr style=\"text-align: right;\">\n",
       "      <th></th>\n",
       "      <th>card_no</th>\n",
       "      <th>year</th>\n",
       "      <th>month</th>\n",
       "      <th>sales</th>\n",
       "      <th>trans</th>\n",
       "      <th>items</th>\n",
       "    </tr>\n",
       "  </thead>\n",
       "  <tbody>\n",
       "    <tr>\n",
       "      <th>0</th>\n",
       "      <td>3.0</td>\n",
       "      <td>2017</td>\n",
       "      <td>1</td>\n",
       "      <td>7034269.95</td>\n",
       "      <td>25029</td>\n",
       "      <td>1816980</td>\n",
       "    </tr>\n",
       "    <tr>\n",
       "      <th>1</th>\n",
       "      <td>15630.0</td>\n",
       "      <td>2017</td>\n",
       "      <td>1</td>\n",
       "      <td>802.95</td>\n",
       "      <td>2</td>\n",
       "      <td>240</td>\n",
       "    </tr>\n",
       "    <tr>\n",
       "      <th>2</th>\n",
       "      <td>18343.0</td>\n",
       "      <td>2017</td>\n",
       "      <td>1</td>\n",
       "      <td>584.70</td>\n",
       "      <td>2</td>\n",
       "      <td>195</td>\n",
       "    </tr>\n",
       "    <tr>\n",
       "      <th>3</th>\n",
       "      <td>49678.0</td>\n",
       "      <td>2017</td>\n",
       "      <td>1</td>\n",
       "      <td>1640.25</td>\n",
       "      <td>9</td>\n",
       "      <td>465</td>\n",
       "    </tr>\n",
       "    <tr>\n",
       "      <th>4</th>\n",
       "      <td>16743.0</td>\n",
       "      <td>2017</td>\n",
       "      <td>1</td>\n",
       "      <td>7021.05</td>\n",
       "      <td>18</td>\n",
       "      <td>2070</td>\n",
       "    </tr>\n",
       "    <tr>\n",
       "      <th>...</th>\n",
       "      <td>...</td>\n",
       "      <td>...</td>\n",
       "      <td>...</td>\n",
       "      <td>...</td>\n",
       "      <td>...</td>\n",
       "      <td>...</td>\n",
       "    </tr>\n",
       "    <tr>\n",
       "      <th>676781</th>\n",
       "      <td>12390.0</td>\n",
       "      <td>2010</td>\n",
       "      <td>1</td>\n",
       "      <td>21.52</td>\n",
       "      <td>1</td>\n",
       "      <td>4</td>\n",
       "    </tr>\n",
       "    <tr>\n",
       "      <th>676782</th>\n",
       "      <td>15050.0</td>\n",
       "      <td>2010</td>\n",
       "      <td>1</td>\n",
       "      <td>31.29</td>\n",
       "      <td>1</td>\n",
       "      <td>5</td>\n",
       "    </tr>\n",
       "    <tr>\n",
       "      <th>676783</th>\n",
       "      <td>21184.0</td>\n",
       "      <td>2010</td>\n",
       "      <td>1</td>\n",
       "      <td>17.94</td>\n",
       "      <td>1</td>\n",
       "      <td>3</td>\n",
       "    </tr>\n",
       "    <tr>\n",
       "      <th>676784</th>\n",
       "      <td>15475.0</td>\n",
       "      <td>2010</td>\n",
       "      <td>1</td>\n",
       "      <td>9.97</td>\n",
       "      <td>1</td>\n",
       "      <td>3</td>\n",
       "    </tr>\n",
       "    <tr>\n",
       "      <th>676785</th>\n",
       "      <td>50120.0</td>\n",
       "      <td>2010</td>\n",
       "      <td>1</td>\n",
       "      <td>11.94</td>\n",
       "      <td>1</td>\n",
       "      <td>1</td>\n",
       "    </tr>\n",
       "  </tbody>\n",
       "</table>\n",
       "<p>676786 rows × 6 columns</p>\n",
       "</div>"
      ],
      "text/plain": [
       "        card_no  year  month       sales  trans    items\n",
       "0           3.0  2017      1  7034269.95  25029  1816980\n",
       "1       15630.0  2017      1      802.95      2      240\n",
       "2       18343.0  2017      1      584.70      2      195\n",
       "3       49678.0  2017      1     1640.25      9      465\n",
       "4       16743.0  2017      1     7021.05     18     2070\n",
       "...         ...   ...    ...         ...    ...      ...\n",
       "676781  12390.0  2010      1       21.52      1        4\n",
       "676782  15050.0  2010      1       31.29      1        5\n",
       "676783  21184.0  2010      1       17.94      1        3\n",
       "676784  15475.0  2010      1        9.97      1        3\n",
       "676785  50120.0  2010      1       11.94      1        1\n",
       "\n",
       "[676786 rows x 6 columns]"
      ]
     },
     "execution_count": 9,
     "metadata": {},
     "output_type": "execute_result"
    }
   ],
   "source": [
    "owner_spend"
   ]
  },
  {
   "cell_type": "code",
   "execution_count": 10,
   "id": "3e41ba2b",
   "metadata": {
    "collapsed": true
   },
   "outputs": [
    {
     "name": "stderr",
     "output_type": "stream",
     "text": [
      "Downloading: 100%|██████████████████████████████████████████████████████| 1001232/1001232 [01:21<00:00, 12245.71rows/s]\n"
     ]
    }
   ],
   "source": [
    "# Builds a table with upc, description, department number, department name, year, month, sales, transactions, and items.\n",
    "query = \"\"\"\n",
    "SELECT rmsba.upc\n",
    ", rmsba.description\n",
    ", rmsba.department\n",
    ", umsba.dept_name\n",
    ", EXTRACT(YEAR FROM rmsba.datetime) AS year\n",
    ", EXTRACT(MONTH FROM rmsba.datetime) AS month\n",
    ", ROUND(SUM(rmsba.total), 2) AS sales \n",
    ", COUNT(DISTINCT CONCAT(CAST(EXTRACT(DATE FROM datetime) AS STRING), CAST(rmsba.register_no AS STRING), CAST(rmsba.emp_no AS STRING), CAST(rmsba.trans_no AS STRING))) AS trans\n",
    ", SUM(CASE rmsba.trans_status WHEN \"V\" THEN -1 WHEN \"R\" THEN -1 ELSE 1 END) AS items\n",
    "FROM `reese-msba.wedge_transactions.transArchive*` as rmsba\n",
    "INNER JOIN `umt-msba.wedge_transactions.department_lookup` as umsba\n",
    "ON rmsba.department = umsba.department\n",
    "WHERE (rmsba.department != 0\n",
    "AND rmsba.department != 15)\n",
    "AND (rmsba.trans_status IS NULL\n",
    "OR rmsba.trans_status = \"V\"\n",
    "OR rmsba.trans_status = \"R\"\n",
    "OR rmsba.trans_status = '')\n",
    "GROUP BY rmsba.upc, rmsba.description, rmsba.department, dept_name, year, month\n",
    "ORDER BY year DESC, month DESC\n",
    "\"\"\"\n",
    "\n",
    "dept_spend = pandas_gbq.read_gbq(query,project_id = gbq_proj_id)"
   ]
  },
  {
   "cell_type": "code",
   "execution_count": 11,
   "id": "b408c950",
   "metadata": {
    "collapsed": true
   },
   "outputs": [
    {
     "data": {
      "text/html": [
       "<div>\n",
       "<style scoped>\n",
       "    .dataframe tbody tr th:only-of-type {\n",
       "        vertical-align: middle;\n",
       "    }\n",
       "\n",
       "    .dataframe tbody tr th {\n",
       "        vertical-align: top;\n",
       "    }\n",
       "\n",
       "    .dataframe thead th {\n",
       "        text-align: right;\n",
       "    }\n",
       "</style>\n",
       "<table border=\"1\" class=\"dataframe\">\n",
       "  <thead>\n",
       "    <tr style=\"text-align: right;\">\n",
       "      <th></th>\n",
       "      <th>upc</th>\n",
       "      <th>description</th>\n",
       "      <th>department</th>\n",
       "      <th>dept_name</th>\n",
       "      <th>year</th>\n",
       "      <th>month</th>\n",
       "      <th>sales</th>\n",
       "      <th>trans</th>\n",
       "      <th>items</th>\n",
       "    </tr>\n",
       "  </thead>\n",
       "  <tbody>\n",
       "    <tr>\n",
       "      <th>0</th>\n",
       "      <td>0081135500254</td>\n",
       "      <td>O.Sharp Cheddar 8oz Rumiano</td>\n",
       "      <td>5.0</td>\n",
       "      <td>CHEESE</td>\n",
       "      <td>2017</td>\n",
       "      <td>1</td>\n",
       "      <td>2710.35</td>\n",
       "      <td>42</td>\n",
       "      <td>615</td>\n",
       "    </tr>\n",
       "    <tr>\n",
       "      <th>1</th>\n",
       "      <td>0085514000215</td>\n",
       "      <td>Pumpkin Fig Granola 12oz PuE</td>\n",
       "      <td>1.0</td>\n",
       "      <td>PACKAGED GROCERY</td>\n",
       "      <td>2017</td>\n",
       "      <td>1</td>\n",
       "      <td>2504.70</td>\n",
       "      <td>22</td>\n",
       "      <td>330</td>\n",
       "    </tr>\n",
       "    <tr>\n",
       "      <th>2</th>\n",
       "      <td>0086547300020</td>\n",
       "      <td>O.Sprouted Flax 16oz PV</td>\n",
       "      <td>10.0</td>\n",
       "      <td>SUPPLEMENTS</td>\n",
       "      <td>2017</td>\n",
       "      <td>1</td>\n",
       "      <td>1274.25</td>\n",
       "      <td>5</td>\n",
       "      <td>75</td>\n",
       "    </tr>\n",
       "    <tr>\n",
       "      <th>3</th>\n",
       "      <td>0080500200072</td>\n",
       "      <td>Dusk Aftershave Balm 3.4oz Her</td>\n",
       "      <td>11.0</td>\n",
       "      <td>PERSONAL CARE</td>\n",
       "      <td>2017</td>\n",
       "      <td>1</td>\n",
       "      <td>134.85</td>\n",
       "      <td>1</td>\n",
       "      <td>15</td>\n",
       "    </tr>\n",
       "    <tr>\n",
       "      <th>4</th>\n",
       "      <td>1.99DP11</td>\n",
       "      <td>PERSONAL CARE</td>\n",
       "      <td>11.0</td>\n",
       "      <td>PERSONAL CARE</td>\n",
       "      <td>2017</td>\n",
       "      <td>1</td>\n",
       "      <td>119.40</td>\n",
       "      <td>4</td>\n",
       "      <td>60</td>\n",
       "    </tr>\n",
       "    <tr>\n",
       "      <th>...</th>\n",
       "      <td>...</td>\n",
       "      <td>...</td>\n",
       "      <td>...</td>\n",
       "      <td>...</td>\n",
       "      <td>...</td>\n",
       "      <td>...</td>\n",
       "      <td>...</td>\n",
       "      <td>...</td>\n",
       "      <td>...</td>\n",
       "    </tr>\n",
       "    <tr>\n",
       "      <th>1001227</th>\n",
       "      <td>0003000021705</td>\n",
       "      <td>Pnut Bumpers Cereal 14oz Mot</td>\n",
       "      <td>1.0</td>\n",
       "      <td>PACKAGED GROCERY</td>\n",
       "      <td>2010</td>\n",
       "      <td>1</td>\n",
       "      <td>159.60</td>\n",
       "      <td>37</td>\n",
       "      <td>40</td>\n",
       "    </tr>\n",
       "    <tr>\n",
       "      <th>1001228</th>\n",
       "      <td>0004156514116</td>\n",
       "      <td>Chunky Salsa Med 16oz Pace</td>\n",
       "      <td>1.0</td>\n",
       "      <td>PACKAGED GROCERY</td>\n",
       "      <td>2010</td>\n",
       "      <td>1</td>\n",
       "      <td>50.26</td>\n",
       "      <td>13</td>\n",
       "      <td>14</td>\n",
       "    </tr>\n",
       "    <tr>\n",
       "      <th>1001229</th>\n",
       "      <td>0007337791793</td>\n",
       "      <td>Blue Aloe-Infused Socks</td>\n",
       "      <td>9.0</td>\n",
       "      <td>GEN MERCH</td>\n",
       "      <td>2010</td>\n",
       "      <td>1</td>\n",
       "      <td>59.94</td>\n",
       "      <td>5</td>\n",
       "      <td>6</td>\n",
       "    </tr>\n",
       "    <tr>\n",
       "      <th>1001230</th>\n",
       "      <td>0063408448023</td>\n",
       "      <td>O.Headache Sooth.Balm 1oz Badg</td>\n",
       "      <td>11.0</td>\n",
       "      <td>PERSONAL CARE</td>\n",
       "      <td>2010</td>\n",
       "      <td>1</td>\n",
       "      <td>16.47</td>\n",
       "      <td>3</td>\n",
       "      <td>3</td>\n",
       "    </tr>\n",
       "    <tr>\n",
       "      <th>1001231</th>\n",
       "      <td>0000000017511</td>\n",
       "      <td>COFFEE Guatemalan Dark/Peace</td>\n",
       "      <td>3.0</td>\n",
       "      <td>BULK</td>\n",
       "      <td>2010</td>\n",
       "      <td>1</td>\n",
       "      <td>1012.85</td>\n",
       "      <td>119</td>\n",
       "      <td>122</td>\n",
       "    </tr>\n",
       "  </tbody>\n",
       "</table>\n",
       "<p>1001232 rows × 9 columns</p>\n",
       "</div>"
      ],
      "text/plain": [
       "                   upc                     description  department  \\\n",
       "0        0081135500254     O.Sharp Cheddar 8oz Rumiano         5.0   \n",
       "1        0085514000215    Pumpkin Fig Granola 12oz PuE         1.0   \n",
       "2        0086547300020         O.Sprouted Flax 16oz PV        10.0   \n",
       "3        0080500200072  Dusk Aftershave Balm 3.4oz Her        11.0   \n",
       "4             1.99DP11                   PERSONAL CARE        11.0   \n",
       "...                ...                             ...         ...   \n",
       "1001227  0003000021705    Pnut Bumpers Cereal 14oz Mot         1.0   \n",
       "1001228  0004156514116      Chunky Salsa Med 16oz Pace         1.0   \n",
       "1001229  0007337791793         Blue Aloe-Infused Socks         9.0   \n",
       "1001230  0063408448023  O.Headache Sooth.Balm 1oz Badg        11.0   \n",
       "1001231  0000000017511    COFFEE Guatemalan Dark/Peace         3.0   \n",
       "\n",
       "                dept_name  year  month    sales  trans  items  \n",
       "0                  CHEESE  2017      1  2710.35     42    615  \n",
       "1        PACKAGED GROCERY  2017      1  2504.70     22    330  \n",
       "2             SUPPLEMENTS  2017      1  1274.25      5     75  \n",
       "3           PERSONAL CARE  2017      1   134.85      1     15  \n",
       "4           PERSONAL CARE  2017      1   119.40      4     60  \n",
       "...                   ...   ...    ...      ...    ...    ...  \n",
       "1001227  PACKAGED GROCERY  2010      1   159.60     37     40  \n",
       "1001228  PACKAGED GROCERY  2010      1    50.26     13     14  \n",
       "1001229         GEN MERCH  2010      1    59.94      5      6  \n",
       "1001230     PERSONAL CARE  2010      1    16.47      3      3  \n",
       "1001231              BULK  2010      1  1012.85    119    122  \n",
       "\n",
       "[1001232 rows x 9 columns]"
      ]
     },
     "execution_count": 11,
     "metadata": {},
     "output_type": "execute_result"
    }
   ],
   "source": [
    "dept_spend"
   ]
  },
  {
   "cell_type": "markdown",
   "id": "735282da",
   "metadata": {},
   "source": [
    "The next cell exports the tables to csv."
   ]
  },
  {
   "cell_type": "code",
   "execution_count": 12,
   "id": "de950307",
   "metadata": {
    "collapsed": true
   },
   "outputs": [],
   "source": [
    "date_hour_spend.to_csv(\"date_hour_spend.csv\", index=False, sep ='\\t')\n",
    "owner_spend.to_csv(\"owner_spend.csv\", index=False, sep ='\\t')\n",
    "dept_spend.to_csv(\"dept_spend.csv\", index=False, sep ='\\t')"
   ]
  },
  {
   "cell_type": "markdown",
   "id": "7275f497",
   "metadata": {},
   "source": [
    "This cell creates the data base into which the tables will be read."
   ]
  },
  {
   "cell_type": "code",
   "execution_count": 13,
   "id": "6b7a7e81",
   "metadata": {
    "collapsed": true
   },
   "outputs": [
    {
     "data": {
      "text/plain": [
       "<sqlite3.Cursor at 0x2336ea2aab0>"
      ]
     },
     "execution_count": 13,
     "metadata": {},
     "output_type": "execute_result"
    }
   ],
   "source": [
    "# Create connection\n",
    "conn = sqlite3.connect('wedge_summary.db')\n",
    "\n",
    "# Create cursor\n",
    "curs = conn.cursor()\n",
    "\n",
    "# Drop table if they exist to start fresh\n",
    "curs.execute(\"DROP TABLE IF EXISTS date_hour_spend\")\n",
    "curs.execute(\"DROP TABLE IF EXISTS owner_spend\")\n",
    "curs.execute(\"DROP TABLE IF EXISTS dept_spend\")"
   ]
  },
  {
   "cell_type": "markdown",
   "id": "7cd310e0",
   "metadata": {},
   "source": [
    "The next cell creates tables in the database that correspond in name and data type to the csv files that will be read in."
   ]
  },
  {
   "cell_type": "code",
   "execution_count": 14,
   "id": "064478c2",
   "metadata": {
    "collapsed": true
   },
   "outputs": [
    {
     "data": {
      "text/plain": [
       "<sqlite3.Cursor at 0x2336ea2aab0>"
      ]
     },
     "execution_count": 14,
     "metadata": {},
     "output_type": "execute_result"
    }
   ],
   "source": [
    "curs.execute(\"\"\"CREATE TABLE date_hour_spend(\n",
    "            date text,\n",
    "            hour integer,\n",
    "            spend numeric,\n",
    "            trans integer,\n",
    "            items integer\n",
    ")\"\"\")\n",
    "curs.execute(\"\"\"CREATE TABLE owner_spend(\n",
    "            card_no text,\n",
    "            year integer,\n",
    "            month integer,\n",
    "            sales numeric,\n",
    "            trans integer,\n",
    "            items integer\n",
    ")\"\"\")\n",
    "curs.execute(\"\"\"CREATE TABLE dept_spend(\n",
    "            upc text,\n",
    "            description text,\n",
    "            department text,\n",
    "            dept_name text,\n",
    "            year integer,\n",
    "            month integer,\n",
    "            sales numeric,\n",
    "            trans integer,\n",
    "            items integer\n",
    ")\"\"\")"
   ]
  },
  {
   "cell_type": "markdown",
   "id": "6514d97b",
   "metadata": {},
   "source": [
    "Next we prepare the csv data to be inserted into the database tables."
   ]
  },
  {
   "cell_type": "code",
   "execution_count": 15,
   "id": "1498668e",
   "metadata": {
    "collapsed": true
   },
   "outputs": [],
   "source": [
    "date_hour = []\n",
    "\n",
    "with open(\"date_hour_spend.csv\",'r') as infile : \n",
    "    next(infile)\n",
    " \n",
    "    for line in infile :\n",
    "        line = line.strip().split(\"\\t\")\n",
    "        date_hour.append(line)\n",
    "\n",
    "owner = []        \n",
    "        \n",
    "with open(\"owner_spend.csv\",'r') as infile : \n",
    "    next(infile)\n",
    " \n",
    "    for line in infile :\n",
    "        line = line.strip().split(\"\\t\")\n",
    "        owner.append(line)\n",
    "        \n",
    "dept = []        \n",
    "        \n",
    "with open(\"dept_spend.csv\",'r') as infile : \n",
    "    next(infile)\n",
    " \n",
    "    for line in infile :\n",
    "        line = line.strip().split(\"\\t\")\n",
    "        dept.append(line)        "
   ]
  },
  {
   "cell_type": "markdown",
   "id": "a733638d",
   "metadata": {},
   "source": [
    "The next three cells insert the data into the database tables."
   ]
  },
  {
   "cell_type": "code",
   "execution_count": 16,
   "id": "536db67f",
   "metadata": {
    "collapsed": true
   },
   "outputs": [],
   "source": [
    "curs.executemany('''INSERT INTO date_hour_spend (date, hour, spend, trans, items) \n",
    "                   VALUES(?,?,?,?,?)''', date_hour)\n",
    "conn.commit()"
   ]
  },
  {
   "cell_type": "code",
   "execution_count": 17,
   "id": "2c1cb2d7",
   "metadata": {
    "collapsed": true
   },
   "outputs": [],
   "source": [
    "curs.executemany('''INSERT INTO owner_spend (card_no, year, month, sales, trans, items) \n",
    "                   VALUES (?,?,?,?,?,?)''', owner)\n",
    "conn.commit()"
   ]
  },
  {
   "cell_type": "code",
   "execution_count": 18,
   "id": "6d8f67f0",
   "metadata": {
    "collapsed": true
   },
   "outputs": [],
   "source": [
    "curs.executemany('''INSERT INTO dept_spend (upc, description, department, dept_name, year, month, sales, trans, items) \n",
    "                   VALUES (?,?,?,?,?,?,?,?,?)''', dept)\n",
    "conn.commit()"
   ]
  },
  {
   "cell_type": "markdown",
   "id": "0d993480",
   "metadata": {},
   "source": [
    "These last few cells query the database to make sure that everything is in working order, and then we close the database connection."
   ]
  },
  {
   "cell_type": "code",
   "execution_count": 19,
   "id": "0fe0476b",
   "metadata": {
    "collapsed": true
   },
   "outputs": [
    {
     "name": "stdout",
     "output_type": "stream",
     "text": [
      "[('2017-01-31', 22, 518.25, 1, 165), ('2017-01-31', 21, 43655.85, 115, 12495), ('2017-01-31', 20, 69527.4, 160, 18540), ('2017-01-31', 19, 80792.4, 208, 20670), ('2017-01-31', 18, 104887.8, 255, 25695), ('2017-01-31', 17, 89824.65, 245, 23100), ('2017-01-31', 16, 86167.05, 199, 21645), ('2017-01-31', 15, 87650.25, 207, 21900), ('2017-01-31', 14, 83348.25, 185, 21240), ('2017-01-31', 13, 80836.95, 214, 20910)]\n"
     ]
    }
   ],
   "source": [
    "curs.execute(\"\"\"SELECT *\n",
    "            FROM date_hour_spend\n",
    "            LIMIT 10\"\"\")\n",
    "\n",
    "print(curs.fetchall())"
   ]
  },
  {
   "cell_type": "code",
   "execution_count": 20,
   "id": "3f58d1f9",
   "metadata": {
    "collapsed": true
   },
   "outputs": [
    {
     "name": "stdout",
     "output_type": "stream",
     "text": [
      "[('3.0', 2017, 1, 7034269.95, 25029, 1816980), ('15630.0', 2017, 1, 802.95, 2, 240), ('18343.0', 2017, 1, 584.7, 2, 195), ('49678.0', 2017, 1, 1640.25, 9, 465), ('16743.0', 2017, 1, 7021.05, 18, 2070), ('66136.0', 2017, 1, 8674.35, 4, 780), ('12539.0', 2017, 1, 875031.75, 2321, 227535), ('13511.0', 2017, 1, 4924.5, 3, 1155), ('10557.0', 2017, 1, 5109.75, 17, 1410), ('10576.0', 2017, 1, 8073.45, 36, 2415)]\n"
     ]
    }
   ],
   "source": [
    "curs.execute(\"\"\"SELECT *\n",
    "            FROM owner_spend\n",
    "            LIMIT 10\"\"\")\n",
    "\n",
    "print(curs.fetchall())"
   ]
  },
  {
   "cell_type": "code",
   "execution_count": 21,
   "id": "82aeadce",
   "metadata": {
    "collapsed": true
   },
   "outputs": [
    {
     "name": "stdout",
     "output_type": "stream",
     "text": [
      "[('0081135500254', 'O.Sharp Cheddar 8oz Rumiano', '5.0', 'CHEESE', 2017, 1, 2710.35, 42, 615), ('0085514000215', 'Pumpkin Fig Granola 12oz PuE', '1.0', 'PACKAGED GROCERY', 2017, 1, 2504.7, 22, 330), ('0086547300020', 'O.Sprouted Flax 16oz PV', '10.0', 'SUPPLEMENTS', 2017, 1, 1274.25, 5, 75), ('0080500200072', 'Dusk Aftershave Balm 3.4oz Her', '11.0', 'PERSONAL CARE', 2017, 1, 134.85, 1, 15), ('1.99DP11', 'PERSONAL CARE', '11.0', 'PERSONAL CARE', 2017, 1, 119.4, 4, 60), ('0000000013509', 'NUTS Almonds Smokies Barsy', '3.0', 'BULK', 2017, 1, 6074.55, 55, 765), ('0000000018335', 'RICE Brown Sweet Organic', '3.0', 'BULK', 2017, 1, 2459.1, 30, 420), ('0000000019346', 'Rosehips Organic', '12.0', 'HERBS&SPICES', 2017, 1, 1020.45, 16, 255), ('0002100989262', 'Sushi Vinegar 10oz Mit', '1.0', 'PACKAGED GROCERY', 2017, 1, 332.1, 6, 90), ('0002392333035', 'O.Swt.Pot.Beet Pouch 3.5oz EB', '1.0', 'PACKAGED GROCERY', 2017, 1, 508.35, 15, 330)]\n"
     ]
    }
   ],
   "source": [
    "curs.execute(\"\"\"SELECT *\n",
    "            FROM dept_spend\n",
    "            LIMIT 10\"\"\")\n",
    "\n",
    "print(curs.fetchall())"
   ]
  },
  {
   "cell_type": "code",
   "execution_count": 22,
   "id": "97568ff7",
   "metadata": {
    "collapsed": true
   },
   "outputs": [],
   "source": [
    "# Close connection to database\n",
    "conn.close()"
   ]
  }
 ],
 "metadata": {
  "kernelspec": {
   "display_name": "Python 3 (ipykernel)",
   "language": "python",
   "name": "python3"
  },
  "language_info": {
   "codemirror_mode": {
    "name": "ipython",
    "version": 3
   },
   "file_extension": ".py",
   "mimetype": "text/x-python",
   "name": "python",
   "nbconvert_exporter": "python",
   "pygments_lexer": "ipython3",
   "version": "3.9.12"
  }
 },
 "nbformat": 4,
 "nbformat_minor": 5
}
